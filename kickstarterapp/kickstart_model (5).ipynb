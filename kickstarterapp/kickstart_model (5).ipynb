{
    "cells": [
        {
            "cell_type": "code",
            "execution_count": 45,
            "source": [
                "import numpy as np\n",
                "import pandas as pd\n",
                "from scipy.stats import iqr\n",
                "import matplotlib.pyplot as plt\n",
                "import matplotlib\n",
                "import seaborn as sns\n",
                "\n",
                "from sklearn.preprocessing import OneHotEncoder, LabelEncoder\n",
                "from sklearn.model_selection import train_test_split\n",
                "from sklearn.linear_model import LogisticRegression\n",
                "from sklearn.ensemble import RandomForestClassifier, GradientBoostingClassifier\n",
                "from sklearn.metrics import confusion_matrix\n",
                "from sklearn import tree, metrics\n",
                "import sklearn.metrics as metrics\n",
                "from sklearn.model_selection import RandomizedSearchCV\n",
                "from xgboost import XGBClassifier\n",
                "from sklearn.inspection import permutation_importance\n",
                "\n"
            ],
            "outputs": [],
            "metadata": {}
        },
        {
            "cell_type": "code",
            "execution_count": 11,
            "source": [
                "df = pd.read_csv('ks-projects-201801.csv')\n",
                "\n",
                "df.head()"
            ],
            "outputs": [
                {
                    "output_type": "execute_result",
                    "data": {
                        "text/plain": [
                            "           ID                                               name  \\\n",
                            "0  1000002330                    The Songs of Adelaide & Abullah   \n",
                            "1  1000003930      Greeting From Earth: ZGAC Arts Capsule For ET   \n",
                            "2  1000004038                                     Where is Hank?   \n",
                            "3  1000007540  ToshiCapital Rekordz Needs Help to Complete Album   \n",
                            "4  1000011046  Community Film Project: The Art of Neighborhoo...   \n",
                            "\n",
                            "         category main_category currency    deadline     goal  \\\n",
                            "0          Poetry    Publishing      GBP  2015-10-09   1000.0   \n",
                            "1  Narrative Film  Film & Video      USD  2017-11-01  30000.0   \n",
                            "2  Narrative Film  Film & Video      USD  2013-02-26  45000.0   \n",
                            "3           Music         Music      USD  2012-04-16   5000.0   \n",
                            "4    Film & Video  Film & Video      USD  2015-08-29  19500.0   \n",
                            "\n",
                            "              launched  pledged     state  backers country  usd pledged  \\\n",
                            "0  2015-08-11 12:12:28      0.0    failed        0      GB          0.0   \n",
                            "1  2017-09-02 04:43:57   2421.0    failed       15      US        100.0   \n",
                            "2  2013-01-12 00:20:50    220.0    failed        3      US        220.0   \n",
                            "3  2012-03-17 03:24:11      1.0    failed        1      US          1.0   \n",
                            "4  2015-07-04 08:35:03   1283.0  canceled       14      US       1283.0   \n",
                            "\n",
                            "   usd_pledged_real  usd_goal_real  \n",
                            "0               0.0        1533.95  \n",
                            "1            2421.0       30000.00  \n",
                            "2             220.0       45000.00  \n",
                            "3               1.0        5000.00  \n",
                            "4            1283.0       19500.00  "
                        ],
                        "text/html": [
                            "<div>\n",
                            "<style scoped>\n",
                            "    .dataframe tbody tr th:only-of-type {\n",
                            "        vertical-align: middle;\n",
                            "    }\n",
                            "\n",
                            "    .dataframe tbody tr th {\n",
                            "        vertical-align: top;\n",
                            "    }\n",
                            "\n",
                            "    .dataframe thead th {\n",
                            "        text-align: right;\n",
                            "    }\n",
                            "</style>\n",
                            "<table border=\"1\" class=\"dataframe\">\n",
                            "  <thead>\n",
                            "    <tr style=\"text-align: right;\">\n",
                            "      <th></th>\n",
                            "      <th>ID</th>\n",
                            "      <th>name</th>\n",
                            "      <th>category</th>\n",
                            "      <th>main_category</th>\n",
                            "      <th>currency</th>\n",
                            "      <th>deadline</th>\n",
                            "      <th>goal</th>\n",
                            "      <th>launched</th>\n",
                            "      <th>pledged</th>\n",
                            "      <th>state</th>\n",
                            "      <th>backers</th>\n",
                            "      <th>country</th>\n",
                            "      <th>usd pledged</th>\n",
                            "      <th>usd_pledged_real</th>\n",
                            "      <th>usd_goal_real</th>\n",
                            "    </tr>\n",
                            "  </thead>\n",
                            "  <tbody>\n",
                            "    <tr>\n",
                            "      <th>0</th>\n",
                            "      <td>1000002330</td>\n",
                            "      <td>The Songs of Adelaide &amp; Abullah</td>\n",
                            "      <td>Poetry</td>\n",
                            "      <td>Publishing</td>\n",
                            "      <td>GBP</td>\n",
                            "      <td>2015-10-09</td>\n",
                            "      <td>1000.0</td>\n",
                            "      <td>2015-08-11 12:12:28</td>\n",
                            "      <td>0.0</td>\n",
                            "      <td>failed</td>\n",
                            "      <td>0</td>\n",
                            "      <td>GB</td>\n",
                            "      <td>0.0</td>\n",
                            "      <td>0.0</td>\n",
                            "      <td>1533.95</td>\n",
                            "    </tr>\n",
                            "    <tr>\n",
                            "      <th>1</th>\n",
                            "      <td>1000003930</td>\n",
                            "      <td>Greeting From Earth: ZGAC Arts Capsule For ET</td>\n",
                            "      <td>Narrative Film</td>\n",
                            "      <td>Film &amp; Video</td>\n",
                            "      <td>USD</td>\n",
                            "      <td>2017-11-01</td>\n",
                            "      <td>30000.0</td>\n",
                            "      <td>2017-09-02 04:43:57</td>\n",
                            "      <td>2421.0</td>\n",
                            "      <td>failed</td>\n",
                            "      <td>15</td>\n",
                            "      <td>US</td>\n",
                            "      <td>100.0</td>\n",
                            "      <td>2421.0</td>\n",
                            "      <td>30000.00</td>\n",
                            "    </tr>\n",
                            "    <tr>\n",
                            "      <th>2</th>\n",
                            "      <td>1000004038</td>\n",
                            "      <td>Where is Hank?</td>\n",
                            "      <td>Narrative Film</td>\n",
                            "      <td>Film &amp; Video</td>\n",
                            "      <td>USD</td>\n",
                            "      <td>2013-02-26</td>\n",
                            "      <td>45000.0</td>\n",
                            "      <td>2013-01-12 00:20:50</td>\n",
                            "      <td>220.0</td>\n",
                            "      <td>failed</td>\n",
                            "      <td>3</td>\n",
                            "      <td>US</td>\n",
                            "      <td>220.0</td>\n",
                            "      <td>220.0</td>\n",
                            "      <td>45000.00</td>\n",
                            "    </tr>\n",
                            "    <tr>\n",
                            "      <th>3</th>\n",
                            "      <td>1000007540</td>\n",
                            "      <td>ToshiCapital Rekordz Needs Help to Complete Album</td>\n",
                            "      <td>Music</td>\n",
                            "      <td>Music</td>\n",
                            "      <td>USD</td>\n",
                            "      <td>2012-04-16</td>\n",
                            "      <td>5000.0</td>\n",
                            "      <td>2012-03-17 03:24:11</td>\n",
                            "      <td>1.0</td>\n",
                            "      <td>failed</td>\n",
                            "      <td>1</td>\n",
                            "      <td>US</td>\n",
                            "      <td>1.0</td>\n",
                            "      <td>1.0</td>\n",
                            "      <td>5000.00</td>\n",
                            "    </tr>\n",
                            "    <tr>\n",
                            "      <th>4</th>\n",
                            "      <td>1000011046</td>\n",
                            "      <td>Community Film Project: The Art of Neighborhoo...</td>\n",
                            "      <td>Film &amp; Video</td>\n",
                            "      <td>Film &amp; Video</td>\n",
                            "      <td>USD</td>\n",
                            "      <td>2015-08-29</td>\n",
                            "      <td>19500.0</td>\n",
                            "      <td>2015-07-04 08:35:03</td>\n",
                            "      <td>1283.0</td>\n",
                            "      <td>canceled</td>\n",
                            "      <td>14</td>\n",
                            "      <td>US</td>\n",
                            "      <td>1283.0</td>\n",
                            "      <td>1283.0</td>\n",
                            "      <td>19500.00</td>\n",
                            "    </tr>\n",
                            "  </tbody>\n",
                            "</table>\n",
                            "</div>"
                        ]
                    },
                    "metadata": {},
                    "execution_count": 11
                }
            ],
            "metadata": {}
        },
        {
            "cell_type": "code",
            "execution_count": 12,
            "source": [
                "df.info()"
            ],
            "outputs": [
                {
                    "output_type": "stream",
                    "name": "stdout",
                    "text": [
                        "<class 'pandas.core.frame.DataFrame'>\n",
                        "RangeIndex: 378661 entries, 0 to 378660\n",
                        "Data columns (total 15 columns):\n",
                        " #   Column            Non-Null Count   Dtype  \n",
                        "---  ------            --------------   -----  \n",
                        " 0   ID                378661 non-null  int64  \n",
                        " 1   name              378657 non-null  object \n",
                        " 2   category          378661 non-null  object \n",
                        " 3   main_category     378661 non-null  object \n",
                        " 4   currency          378661 non-null  object \n",
                        " 5   deadline          378661 non-null  object \n",
                        " 6   goal              378661 non-null  float64\n",
                        " 7   launched          378661 non-null  object \n",
                        " 8   pledged           378661 non-null  float64\n",
                        " 9   state             378661 non-null  object \n",
                        " 10  backers           378661 non-null  int64  \n",
                        " 11  country           378661 non-null  object \n",
                        " 12  usd pledged       374864 non-null  float64\n",
                        " 13  usd_pledged_real  378661 non-null  float64\n",
                        " 14  usd_goal_real     378661 non-null  float64\n",
                        "dtypes: float64(5), int64(2), object(8)\n",
                        "memory usage: 43.3+ MB\n"
                    ]
                }
            ],
            "metadata": {}
        },
        {
            "cell_type": "code",
            "execution_count": 13,
            "source": [
                "for col in df:\n",
                "    print(df[col].unique())"
            ],
            "outputs": [
                {
                    "output_type": "stream",
                    "name": "stdout",
                    "text": [
                        "[1000002330 1000003930 1000004038 ...  999986353  999987933  999988282]\n",
                        "['The Songs of Adelaide & Abullah'\n",
                        " 'Greeting From Earth: ZGAC Arts Capsule For ET' 'Where is Hank?' ...\n",
                        " 'Walls of Remedy- New lesbian Romantic Comedy feature unlike any other!!'\n",
                        " 'BioDefense Education Kit' 'Nou Renmen Ayiti!  We Love Haiti!']\n",
                        "['Poetry' 'Narrative Film' 'Music' 'Film & Video' 'Restaurants' 'Food'\n",
                        " 'Drinks' 'Product Design' 'Documentary' 'Nonfiction' 'Indie Rock'\n",
                        " 'Crafts' 'Games' 'Tabletop Games' 'Design' 'Comic Books' 'Art Books'\n",
                        " 'Fashion' 'Childrenswear' 'Theater' 'Comics' 'DIY' 'Webseries'\n",
                        " 'Animation' 'Food Trucks' 'Public Art' 'Illustration' 'Photography' 'Pop'\n",
                        " 'People' 'Art' 'Family' 'Fiction' 'Accessories' 'Rock' 'Hardware'\n",
                        " 'Software' 'Weaving' 'Gadgets' 'Web' 'Jazz' 'Ready-to-wear' 'Festivals'\n",
                        " 'Video Games' 'Anthologies' 'Publishing' 'Shorts' 'Electronic Music'\n",
                        " 'Radio & Podcasts' 'Apps' 'Cookbooks' 'Apparel' 'Metal' 'Comedy'\n",
                        " 'Hip-Hop' 'Periodicals' 'Dance' 'Technology' 'Painting' 'World Music'\n",
                        " 'Photobooks' 'Drama' 'Architecture' 'Young Adult' 'Latin' 'Mobile Games'\n",
                        " 'Flight' 'Fine Art' 'Action' 'Playing Cards' 'Makerspaces' 'Punk'\n",
                        " 'Thrillers' \"Children's Books\" 'Audio' 'Performance Art' 'Ceramics'\n",
                        " 'Vegan' 'Graphic Novels' 'Fabrication Tools' 'Performances' 'Sculpture'\n",
                        " 'Sound' 'Stationery' 'Print' \"Farmer's Markets\" 'Events'\n",
                        " 'Classical Music' 'Graphic Design' 'Spaces' 'Country & Folk' 'Wearables'\n",
                        " 'Mixed Media' 'Journalism' 'Movie Theaters' 'Animals' 'Digital Art'\n",
                        " 'Horror' 'Knitting' 'Small Batch' 'Installations' 'Community Gardens'\n",
                        " 'DIY Electronics' 'Embroidery' 'Camera Equipment' 'Jewelry' 'Farms'\n",
                        " 'Conceptual Art' 'Fantasy' 'Webcomics' 'Experimental' 'Science Fiction'\n",
                        " 'Puzzles' 'R&B' 'Music Videos' 'Calendars' 'Video' 'Plays' 'Blues'\n",
                        " 'Bacon' 'Faith' 'Live Games' 'Woodworking' 'Places' 'Footwear'\n",
                        " '3D Printing' 'Academic' 'Zines' 'Musical' 'Workshops' 'Photo'\n",
                        " 'Immersive' 'Letterpress' 'Gaming Hardware' 'Candles' 'Television'\n",
                        " 'Space Exploration' 'Couture' 'Nature' 'Robots' 'Typography' 'Crochet'\n",
                        " 'Translations' 'Textiles' 'Pottery' 'Interactive Design' 'Video Art'\n",
                        " 'Quilts' 'Glass' 'Pet Fashion' 'Printing' 'Romance' 'Civic Design' 'Kids'\n",
                        " 'Literary Journals' 'Taxidermy' 'Literary Spaces' 'Chiptune'\n",
                        " 'Residencies']\n",
                        "['Publishing' 'Film & Video' 'Music' 'Food' 'Design' 'Crafts' 'Games'\n",
                        " 'Comics' 'Fashion' 'Theater' 'Art' 'Photography' 'Technology' 'Dance'\n",
                        " 'Journalism']\n",
                        "['GBP' 'USD' 'CAD' 'AUD' 'NOK' 'EUR' 'MXN' 'SEK' 'NZD' 'CHF' 'DKK' 'HKD'\n",
                        " 'SGD' 'JPY']\n",
                        "['2015-10-09' '2017-11-01' '2013-02-26' ... '2009-07-26' '2009-07-30'\n",
                        " '2009-12-28']\n",
                        "[  1000.  30000.  45000. ... 186037.  33975.  28559.]\n",
                        "['2015-08-11 12:12:28' '2017-09-02 04:43:57' '2013-01-12 00:20:50' ...\n",
                        " '2010-07-01 19:40:30' '2016-01-13 18:13:53' '2011-07-19 09:07:47']\n",
                        "[    0.    2421.     220.   ... 42647.   13861.5   1732.02]\n",
                        "['failed' 'canceled' 'successful' 'live' 'undefined' 'suspended']\n",
                        "[   0   15    3 ... 5828 7855 2314]\n",
                        "['GB' 'US' 'CA' 'AU' 'NO' 'IT' 'DE' 'IE' 'MX' 'ES' 'N,0\"' 'SE' 'FR' 'NL'\n",
                        " 'NZ' 'CH' 'AT' 'DK' 'BE' 'HK' 'LU' 'SG' 'JP']\n",
                        "[   0.    100.    220.   ... 1732.02 5019.92 2698.97]\n",
                        "[   0.   2421.    220.   ... 1732.02 4983.69 2875.83]\n",
                        "[ 1533.95 30000.   45000.   ... 28559.   82207.27 25566.05]\n"
                    ]
                }
            ],
            "metadata": {}
        },
        {
            "cell_type": "code",
            "execution_count": 14,
            "source": [
                "#base accuracy: failure rate is ~62%, success rate is 36%\n",
                "df['state'].value_counts(normalize=True)\n",
                "\n",
                "df['state'].value_counts()"
            ],
            "outputs": [
                {
                    "output_type": "execute_result",
                    "data": {
                        "text/plain": [
                            "failed        197719\n",
                            "successful    133956\n",
                            "canceled       38779\n",
                            "undefined       3562\n",
                            "live            2799\n",
                            "suspended       1846\n",
                            "Name: state, dtype: int64"
                        ]
                    },
                    "metadata": {},
                    "execution_count": 14
                }
            ],
            "metadata": {}
        },
        {
            "cell_type": "code",
            "execution_count": 15,
            "source": [
                "def wrangle(file_path):\n",
                "    \n",
                "    #reading in data, parsing the two date columns\n",
                "    df = pd.read_csv(file_path, parse_dates=['deadline', 'launched'])\n",
                "\n",
                "    #dropping any live campaigns\n",
                "    df = df.query('state != \"live\"')\n",
                "\n",
                "    #creating new column 'success' will have a 1 if state is succesfull, else 0\n",
                "    df.loc[df['state'] == 'successful', 'success'] = 1\n",
                "    df.loc[df['state'] != 'successful', 'success'] = 0\n",
                "\n",
                "    \n",
                "    #creating new columns for the dates\n",
                "    df = df.assign(hour=df.launched.dt.hour,\n",
                "               day=df.launched.dt.day,\n",
                "               month=df.launched.dt.month,\n",
                "               year=df.launched.dt.year)\n",
                "               \n",
                "    return df\n",
                "\n",
                "df = wrangle(\"ks-projects-201801.csv\");"
            ],
            "outputs": [
                {
                    "output_type": "stream",
                    "name": "stderr",
                    "text": [
                        "/Library/Frameworks/Python.framework/Versions/3.9/lib/python3.9/site-packages/pandas/core/indexing.py:1684: SettingWithCopyWarning: \n",
                        "A value is trying to be set on a copy of a slice from a DataFrame.\n",
                        "Try using .loc[row_indexer,col_indexer] = value instead\n",
                        "\n",
                        "See the caveats in the documentation: https://pandas.pydata.org/pandas-docs/stable/user_guide/indexing.html#returning-a-view-versus-a-copy\n",
                        "  self.obj[key] = infer_fill_value(value)\n",
                        "/Library/Frameworks/Python.framework/Versions/3.9/lib/python3.9/site-packages/pandas/core/indexing.py:1817: SettingWithCopyWarning: \n",
                        "A value is trying to be set on a copy of a slice from a DataFrame.\n",
                        "Try using .loc[row_indexer,col_indexer] = value instead\n",
                        "\n",
                        "See the caveats in the documentation: https://pandas.pydata.org/pandas-docs/stable/user_guide/indexing.html#returning-a-view-versus-a-copy\n",
                        "  self._setitem_single_column(loc, value, pi)\n"
                    ]
                }
            ],
            "metadata": {}
        },
        {
            "cell_type": "code",
            "execution_count": 16,
            "source": [
                "df.head()"
            ],
            "outputs": [
                {
                    "output_type": "execute_result",
                    "data": {
                        "text/plain": [
                            "           ID                                               name  \\\n",
                            "0  1000002330                    The Songs of Adelaide & Abullah   \n",
                            "1  1000003930      Greeting From Earth: ZGAC Arts Capsule For ET   \n",
                            "2  1000004038                                     Where is Hank?   \n",
                            "3  1000007540  ToshiCapital Rekordz Needs Help to Complete Album   \n",
                            "4  1000011046  Community Film Project: The Art of Neighborhoo...   \n",
                            "\n",
                            "         category main_category currency   deadline     goal  \\\n",
                            "0          Poetry    Publishing      GBP 2015-10-09   1000.0   \n",
                            "1  Narrative Film  Film & Video      USD 2017-11-01  30000.0   \n",
                            "2  Narrative Film  Film & Video      USD 2013-02-26  45000.0   \n",
                            "3           Music         Music      USD 2012-04-16   5000.0   \n",
                            "4    Film & Video  Film & Video      USD 2015-08-29  19500.0   \n",
                            "\n",
                            "             launched  pledged     state  backers country  usd pledged  \\\n",
                            "0 2015-08-11 12:12:28      0.0    failed        0      GB          0.0   \n",
                            "1 2017-09-02 04:43:57   2421.0    failed       15      US        100.0   \n",
                            "2 2013-01-12 00:20:50    220.0    failed        3      US        220.0   \n",
                            "3 2012-03-17 03:24:11      1.0    failed        1      US          1.0   \n",
                            "4 2015-07-04 08:35:03   1283.0  canceled       14      US       1283.0   \n",
                            "\n",
                            "   usd_pledged_real  usd_goal_real  success  hour  day  month  year  \n",
                            "0               0.0        1533.95      0.0    12   11      8  2015  \n",
                            "1            2421.0       30000.00      0.0     4    2      9  2017  \n",
                            "2             220.0       45000.00      0.0     0   12      1  2013  \n",
                            "3               1.0        5000.00      0.0     3   17      3  2012  \n",
                            "4            1283.0       19500.00      0.0     8    4      7  2015  "
                        ],
                        "text/html": [
                            "<div>\n",
                            "<style scoped>\n",
                            "    .dataframe tbody tr th:only-of-type {\n",
                            "        vertical-align: middle;\n",
                            "    }\n",
                            "\n",
                            "    .dataframe tbody tr th {\n",
                            "        vertical-align: top;\n",
                            "    }\n",
                            "\n",
                            "    .dataframe thead th {\n",
                            "        text-align: right;\n",
                            "    }\n",
                            "</style>\n",
                            "<table border=\"1\" class=\"dataframe\">\n",
                            "  <thead>\n",
                            "    <tr style=\"text-align: right;\">\n",
                            "      <th></th>\n",
                            "      <th>ID</th>\n",
                            "      <th>name</th>\n",
                            "      <th>category</th>\n",
                            "      <th>main_category</th>\n",
                            "      <th>currency</th>\n",
                            "      <th>deadline</th>\n",
                            "      <th>goal</th>\n",
                            "      <th>launched</th>\n",
                            "      <th>pledged</th>\n",
                            "      <th>state</th>\n",
                            "      <th>backers</th>\n",
                            "      <th>country</th>\n",
                            "      <th>usd pledged</th>\n",
                            "      <th>usd_pledged_real</th>\n",
                            "      <th>usd_goal_real</th>\n",
                            "      <th>success</th>\n",
                            "      <th>hour</th>\n",
                            "      <th>day</th>\n",
                            "      <th>month</th>\n",
                            "      <th>year</th>\n",
                            "    </tr>\n",
                            "  </thead>\n",
                            "  <tbody>\n",
                            "    <tr>\n",
                            "      <th>0</th>\n",
                            "      <td>1000002330</td>\n",
                            "      <td>The Songs of Adelaide &amp; Abullah</td>\n",
                            "      <td>Poetry</td>\n",
                            "      <td>Publishing</td>\n",
                            "      <td>GBP</td>\n",
                            "      <td>2015-10-09</td>\n",
                            "      <td>1000.0</td>\n",
                            "      <td>2015-08-11 12:12:28</td>\n",
                            "      <td>0.0</td>\n",
                            "      <td>failed</td>\n",
                            "      <td>0</td>\n",
                            "      <td>GB</td>\n",
                            "      <td>0.0</td>\n",
                            "      <td>0.0</td>\n",
                            "      <td>1533.95</td>\n",
                            "      <td>0.0</td>\n",
                            "      <td>12</td>\n",
                            "      <td>11</td>\n",
                            "      <td>8</td>\n",
                            "      <td>2015</td>\n",
                            "    </tr>\n",
                            "    <tr>\n",
                            "      <th>1</th>\n",
                            "      <td>1000003930</td>\n",
                            "      <td>Greeting From Earth: ZGAC Arts Capsule For ET</td>\n",
                            "      <td>Narrative Film</td>\n",
                            "      <td>Film &amp; Video</td>\n",
                            "      <td>USD</td>\n",
                            "      <td>2017-11-01</td>\n",
                            "      <td>30000.0</td>\n",
                            "      <td>2017-09-02 04:43:57</td>\n",
                            "      <td>2421.0</td>\n",
                            "      <td>failed</td>\n",
                            "      <td>15</td>\n",
                            "      <td>US</td>\n",
                            "      <td>100.0</td>\n",
                            "      <td>2421.0</td>\n",
                            "      <td>30000.00</td>\n",
                            "      <td>0.0</td>\n",
                            "      <td>4</td>\n",
                            "      <td>2</td>\n",
                            "      <td>9</td>\n",
                            "      <td>2017</td>\n",
                            "    </tr>\n",
                            "    <tr>\n",
                            "      <th>2</th>\n",
                            "      <td>1000004038</td>\n",
                            "      <td>Where is Hank?</td>\n",
                            "      <td>Narrative Film</td>\n",
                            "      <td>Film &amp; Video</td>\n",
                            "      <td>USD</td>\n",
                            "      <td>2013-02-26</td>\n",
                            "      <td>45000.0</td>\n",
                            "      <td>2013-01-12 00:20:50</td>\n",
                            "      <td>220.0</td>\n",
                            "      <td>failed</td>\n",
                            "      <td>3</td>\n",
                            "      <td>US</td>\n",
                            "      <td>220.0</td>\n",
                            "      <td>220.0</td>\n",
                            "      <td>45000.00</td>\n",
                            "      <td>0.0</td>\n",
                            "      <td>0</td>\n",
                            "      <td>12</td>\n",
                            "      <td>1</td>\n",
                            "      <td>2013</td>\n",
                            "    </tr>\n",
                            "    <tr>\n",
                            "      <th>3</th>\n",
                            "      <td>1000007540</td>\n",
                            "      <td>ToshiCapital Rekordz Needs Help to Complete Album</td>\n",
                            "      <td>Music</td>\n",
                            "      <td>Music</td>\n",
                            "      <td>USD</td>\n",
                            "      <td>2012-04-16</td>\n",
                            "      <td>5000.0</td>\n",
                            "      <td>2012-03-17 03:24:11</td>\n",
                            "      <td>1.0</td>\n",
                            "      <td>failed</td>\n",
                            "      <td>1</td>\n",
                            "      <td>US</td>\n",
                            "      <td>1.0</td>\n",
                            "      <td>1.0</td>\n",
                            "      <td>5000.00</td>\n",
                            "      <td>0.0</td>\n",
                            "      <td>3</td>\n",
                            "      <td>17</td>\n",
                            "      <td>3</td>\n",
                            "      <td>2012</td>\n",
                            "    </tr>\n",
                            "    <tr>\n",
                            "      <th>4</th>\n",
                            "      <td>1000011046</td>\n",
                            "      <td>Community Film Project: The Art of Neighborhoo...</td>\n",
                            "      <td>Film &amp; Video</td>\n",
                            "      <td>Film &amp; Video</td>\n",
                            "      <td>USD</td>\n",
                            "      <td>2015-08-29</td>\n",
                            "      <td>19500.0</td>\n",
                            "      <td>2015-07-04 08:35:03</td>\n",
                            "      <td>1283.0</td>\n",
                            "      <td>canceled</td>\n",
                            "      <td>14</td>\n",
                            "      <td>US</td>\n",
                            "      <td>1283.0</td>\n",
                            "      <td>1283.0</td>\n",
                            "      <td>19500.00</td>\n",
                            "      <td>0.0</td>\n",
                            "      <td>8</td>\n",
                            "      <td>4</td>\n",
                            "      <td>7</td>\n",
                            "      <td>2015</td>\n",
                            "    </tr>\n",
                            "  </tbody>\n",
                            "</table>\n",
                            "</div>"
                        ]
                    },
                    "metadata": {},
                    "execution_count": 16
                }
            ],
            "metadata": {}
        },
        {
            "cell_type": "code",
            "execution_count": 17,
            "source": [
                "# get top 10 most frequent names\n",
                "n=10\n",
                "df['name'].value_counts()[:n].index.tolist()\n"
            ],
            "outputs": [
                {
                    "output_type": "execute_result",
                    "data": {
                        "text/plain": [
                            "['New EP/Music Development',\n",
                            " 'Canceled (Canceled)',\n",
                            " 'Music Video',\n",
                            " 'N/A (Canceled)',\n",
                            " 'Debut Album',\n",
                            " 'New EP / Music Development',\n",
                            " 'Cancelled (Canceled)',\n",
                            " 'Reflections',\n",
                            " 'The Journey',\n",
                            " 'The Awakening']"
                        ]
                    },
                    "metadata": {},
                    "execution_count": 17
                }
            ],
            "metadata": {}
        },
        {
            "cell_type": "code",
            "execution_count": 18,
            "source": [
                "df['success'].main_category.mode()"
            ],
            "outputs": [
                {
                    "output_type": "error",
                    "ename": "AttributeError",
                    "evalue": "'Series' object has no attribute 'main_category'",
                    "traceback": [
                        "\u001b[0;31m---------------------------------------------------------------------------\u001b[0m",
                        "\u001b[0;31mAttributeError\u001b[0m                            Traceback (most recent call last)",
                        "\u001b[0;32m/var/folders/__/zlj60b4x2dndz0rl_7m8sl1c0000gp/T/ipykernel_23719/111261017.py\u001b[0m in \u001b[0;36m<module>\u001b[0;34m\u001b[0m\n\u001b[0;32m----> 1\u001b[0;31m \u001b[0mdf\u001b[0m\u001b[0;34m[\u001b[0m\u001b[0;34m'success'\u001b[0m\u001b[0;34m]\u001b[0m\u001b[0;34m.\u001b[0m\u001b[0mmain_category\u001b[0m\u001b[0;34m.\u001b[0m\u001b[0mmode\u001b[0m\u001b[0;34m(\u001b[0m\u001b[0;34m)\u001b[0m\u001b[0;34m\u001b[0m\u001b[0;34m\u001b[0m\u001b[0m\n\u001b[0m",
                        "\u001b[0;32m/Library/Frameworks/Python.framework/Versions/3.9/lib/python3.9/site-packages/pandas/core/generic.py\u001b[0m in \u001b[0;36m__getattr__\u001b[0;34m(self, name)\u001b[0m\n\u001b[1;32m   5476\u001b[0m         ):\n\u001b[1;32m   5477\u001b[0m             \u001b[0;32mreturn\u001b[0m \u001b[0mself\u001b[0m\u001b[0;34m[\u001b[0m\u001b[0mname\u001b[0m\u001b[0;34m]\u001b[0m\u001b[0;34m\u001b[0m\u001b[0;34m\u001b[0m\u001b[0m\n\u001b[0;32m-> 5478\u001b[0;31m         \u001b[0;32mreturn\u001b[0m \u001b[0mobject\u001b[0m\u001b[0;34m.\u001b[0m\u001b[0m__getattribute__\u001b[0m\u001b[0;34m(\u001b[0m\u001b[0mself\u001b[0m\u001b[0;34m,\u001b[0m \u001b[0mname\u001b[0m\u001b[0;34m)\u001b[0m\u001b[0;34m\u001b[0m\u001b[0;34m\u001b[0m\u001b[0m\n\u001b[0m\u001b[1;32m   5479\u001b[0m \u001b[0;34m\u001b[0m\u001b[0m\n\u001b[1;32m   5480\u001b[0m     \u001b[0;32mdef\u001b[0m \u001b[0m__setattr__\u001b[0m\u001b[0;34m(\u001b[0m\u001b[0mself\u001b[0m\u001b[0;34m,\u001b[0m \u001b[0mname\u001b[0m\u001b[0;34m:\u001b[0m \u001b[0mstr\u001b[0m\u001b[0;34m,\u001b[0m \u001b[0mvalue\u001b[0m\u001b[0;34m)\u001b[0m \u001b[0;34m->\u001b[0m \u001b[0;32mNone\u001b[0m\u001b[0;34m:\u001b[0m\u001b[0;34m\u001b[0m\u001b[0;34m\u001b[0m\u001b[0m\n",
                        "\u001b[0;31mAttributeError\u001b[0m: 'Series' object has no attribute 'main_category'"
                    ]
                }
            ],
            "metadata": {}
        },
        {
            "cell_type": "code",
            "execution_count": null,
            "source": [
                "df.describe()"
            ],
            "outputs": [
                {
                    "output_type": "execute_result",
                    "data": {
                        "text/plain": [
                            "                 ID          goal       pledged        backers   usd pledged  \\\n",
                            "count  3.758620e+05  3.758620e+05  3.758620e+05  375862.000000  3.720660e+05   \n",
                            "mean   1.074660e+09  4.887465e+04  9.687431e+03     105.896866  7.080215e+03   \n",
                            "std    6.191365e+08  1.176595e+06  9.588649e+04     909.952393  7.893105e+04   \n",
                            "min    5.971000e+03  1.000000e-02  0.000000e+00       0.000000  0.000000e+00   \n",
                            "25%    5.380103e+08  2.000000e+03  3.000000e+01       2.000000  1.800000e+01   \n",
                            "50%    1.075277e+09  5.100000e+03  6.250000e+02      12.000000  4.000000e+02   \n",
                            "75%    1.610139e+09  1.600000e+04  4.090000e+03      56.000000  3.056957e+03   \n",
                            "max    2.147476e+09  1.000000e+08  2.033899e+07  219382.000000  2.033899e+07   \n",
                            "\n",
                            "       usd_pledged_real  usd_goal_real        success           hour  \\\n",
                            "count      3.758620e+05   3.758620e+05  375862.000000  375862.000000   \n",
                            "mean       9.082678e+03   4.532720e+04       0.356397      13.091637   \n",
                            "std        9.127075e+04   1.145865e+06       0.478935       7.712252   \n",
                            "min        0.000000e+00   1.000000e-02       0.000000       0.000000   \n",
                            "25%        3.100000e+01   2.000000e+03       0.000000       5.000000   \n",
                            "50%        6.274500e+02   5.480000e+03       0.000000      16.000000   \n",
                            "75%        4.064462e+03   1.550000e+04       1.000000      20.000000   \n",
                            "max        2.033899e+07   1.663614e+08       1.000000      23.000000   \n",
                            "\n",
                            "                 day          month           year  launch_season_encode  \\\n",
                            "count  375862.000000  375862.000000  375862.000000         375862.000000   \n",
                            "mean       15.294741       6.425403    2014.227014              2.434173   \n",
                            "std         8.809024       3.310220       1.925235              1.106832   \n",
                            "min         1.000000       1.000000    1970.000000              1.000000   \n",
                            "25%         8.000000       4.000000    2013.000000              1.000000   \n",
                            "50%        15.000000       6.000000    2014.000000              2.000000   \n",
                            "75%        23.000000       9.000000    2016.000000              3.000000   \n",
                            "max        31.000000      12.000000    2018.000000              4.000000   \n",
                            "\n",
                            "       deadline_season_encode                    duration  duration_days  \n",
                            "count           375862.000000                      375862  375862.000000  \n",
                            "mean                 2.402493  33 days 21:01:08.022633305      33.441473  \n",
                            "std                  1.086969  66 days 03:31:42.820764721      66.142888  \n",
                            "min                  1.000000             0 days 00:07:17       0.000000  \n",
                            "25%                  1.000000            29 days 02:18:44      29.000000  \n",
                            "50%                  2.000000     29 days 16:24:21.500000      29.000000  \n",
                            "75%                  3.000000     36 days 07:35:12.750000      36.000000  \n",
                            "max                  4.000000         16738 days 23:00:00   16738.000000  "
                        ],
                        "text/html": [
                            "<div>\n",
                            "<style scoped>\n",
                            "    .dataframe tbody tr th:only-of-type {\n",
                            "        vertical-align: middle;\n",
                            "    }\n",
                            "\n",
                            "    .dataframe tbody tr th {\n",
                            "        vertical-align: top;\n",
                            "    }\n",
                            "\n",
                            "    .dataframe thead th {\n",
                            "        text-align: right;\n",
                            "    }\n",
                            "</style>\n",
                            "<table border=\"1\" class=\"dataframe\">\n",
                            "  <thead>\n",
                            "    <tr style=\"text-align: right;\">\n",
                            "      <th></th>\n",
                            "      <th>ID</th>\n",
                            "      <th>goal</th>\n",
                            "      <th>pledged</th>\n",
                            "      <th>backers</th>\n",
                            "      <th>usd pledged</th>\n",
                            "      <th>usd_pledged_real</th>\n",
                            "      <th>usd_goal_real</th>\n",
                            "      <th>success</th>\n",
                            "      <th>hour</th>\n",
                            "      <th>day</th>\n",
                            "      <th>month</th>\n",
                            "      <th>year</th>\n",
                            "      <th>launch_season_encode</th>\n",
                            "      <th>deadline_season_encode</th>\n",
                            "      <th>duration</th>\n",
                            "      <th>duration_days</th>\n",
                            "    </tr>\n",
                            "  </thead>\n",
                            "  <tbody>\n",
                            "    <tr>\n",
                            "      <th>count</th>\n",
                            "      <td>3.758620e+05</td>\n",
                            "      <td>3.758620e+05</td>\n",
                            "      <td>3.758620e+05</td>\n",
                            "      <td>375862.000000</td>\n",
                            "      <td>3.720660e+05</td>\n",
                            "      <td>3.758620e+05</td>\n",
                            "      <td>3.758620e+05</td>\n",
                            "      <td>375862.000000</td>\n",
                            "      <td>375862.000000</td>\n",
                            "      <td>375862.000000</td>\n",
                            "      <td>375862.000000</td>\n",
                            "      <td>375862.000000</td>\n",
                            "      <td>375862.000000</td>\n",
                            "      <td>375862.000000</td>\n",
                            "      <td>375862</td>\n",
                            "      <td>375862.000000</td>\n",
                            "    </tr>\n",
                            "    <tr>\n",
                            "      <th>mean</th>\n",
                            "      <td>1.074660e+09</td>\n",
                            "      <td>4.887465e+04</td>\n",
                            "      <td>9.687431e+03</td>\n",
                            "      <td>105.896866</td>\n",
                            "      <td>7.080215e+03</td>\n",
                            "      <td>9.082678e+03</td>\n",
                            "      <td>4.532720e+04</td>\n",
                            "      <td>0.356397</td>\n",
                            "      <td>13.091637</td>\n",
                            "      <td>15.294741</td>\n",
                            "      <td>6.425403</td>\n",
                            "      <td>2014.227014</td>\n",
                            "      <td>2.434173</td>\n",
                            "      <td>2.402493</td>\n",
                            "      <td>33 days 21:01:08.022633305</td>\n",
                            "      <td>33.441473</td>\n",
                            "    </tr>\n",
                            "    <tr>\n",
                            "      <th>std</th>\n",
                            "      <td>6.191365e+08</td>\n",
                            "      <td>1.176595e+06</td>\n",
                            "      <td>9.588649e+04</td>\n",
                            "      <td>909.952393</td>\n",
                            "      <td>7.893105e+04</td>\n",
                            "      <td>9.127075e+04</td>\n",
                            "      <td>1.145865e+06</td>\n",
                            "      <td>0.478935</td>\n",
                            "      <td>7.712252</td>\n",
                            "      <td>8.809024</td>\n",
                            "      <td>3.310220</td>\n",
                            "      <td>1.925235</td>\n",
                            "      <td>1.106832</td>\n",
                            "      <td>1.086969</td>\n",
                            "      <td>66 days 03:31:42.820764721</td>\n",
                            "      <td>66.142888</td>\n",
                            "    </tr>\n",
                            "    <tr>\n",
                            "      <th>min</th>\n",
                            "      <td>5.971000e+03</td>\n",
                            "      <td>1.000000e-02</td>\n",
                            "      <td>0.000000e+00</td>\n",
                            "      <td>0.000000</td>\n",
                            "      <td>0.000000e+00</td>\n",
                            "      <td>0.000000e+00</td>\n",
                            "      <td>1.000000e-02</td>\n",
                            "      <td>0.000000</td>\n",
                            "      <td>0.000000</td>\n",
                            "      <td>1.000000</td>\n",
                            "      <td>1.000000</td>\n",
                            "      <td>1970.000000</td>\n",
                            "      <td>1.000000</td>\n",
                            "      <td>1.000000</td>\n",
                            "      <td>0 days 00:07:17</td>\n",
                            "      <td>0.000000</td>\n",
                            "    </tr>\n",
                            "    <tr>\n",
                            "      <th>25%</th>\n",
                            "      <td>5.380103e+08</td>\n",
                            "      <td>2.000000e+03</td>\n",
                            "      <td>3.000000e+01</td>\n",
                            "      <td>2.000000</td>\n",
                            "      <td>1.800000e+01</td>\n",
                            "      <td>3.100000e+01</td>\n",
                            "      <td>2.000000e+03</td>\n",
                            "      <td>0.000000</td>\n",
                            "      <td>5.000000</td>\n",
                            "      <td>8.000000</td>\n",
                            "      <td>4.000000</td>\n",
                            "      <td>2013.000000</td>\n",
                            "      <td>1.000000</td>\n",
                            "      <td>1.000000</td>\n",
                            "      <td>29 days 02:18:44</td>\n",
                            "      <td>29.000000</td>\n",
                            "    </tr>\n",
                            "    <tr>\n",
                            "      <th>50%</th>\n",
                            "      <td>1.075277e+09</td>\n",
                            "      <td>5.100000e+03</td>\n",
                            "      <td>6.250000e+02</td>\n",
                            "      <td>12.000000</td>\n",
                            "      <td>4.000000e+02</td>\n",
                            "      <td>6.274500e+02</td>\n",
                            "      <td>5.480000e+03</td>\n",
                            "      <td>0.000000</td>\n",
                            "      <td>16.000000</td>\n",
                            "      <td>15.000000</td>\n",
                            "      <td>6.000000</td>\n",
                            "      <td>2014.000000</td>\n",
                            "      <td>2.000000</td>\n",
                            "      <td>2.000000</td>\n",
                            "      <td>29 days 16:24:21.500000</td>\n",
                            "      <td>29.000000</td>\n",
                            "    </tr>\n",
                            "    <tr>\n",
                            "      <th>75%</th>\n",
                            "      <td>1.610139e+09</td>\n",
                            "      <td>1.600000e+04</td>\n",
                            "      <td>4.090000e+03</td>\n",
                            "      <td>56.000000</td>\n",
                            "      <td>3.056957e+03</td>\n",
                            "      <td>4.064462e+03</td>\n",
                            "      <td>1.550000e+04</td>\n",
                            "      <td>1.000000</td>\n",
                            "      <td>20.000000</td>\n",
                            "      <td>23.000000</td>\n",
                            "      <td>9.000000</td>\n",
                            "      <td>2016.000000</td>\n",
                            "      <td>3.000000</td>\n",
                            "      <td>3.000000</td>\n",
                            "      <td>36 days 07:35:12.750000</td>\n",
                            "      <td>36.000000</td>\n",
                            "    </tr>\n",
                            "    <tr>\n",
                            "      <th>max</th>\n",
                            "      <td>2.147476e+09</td>\n",
                            "      <td>1.000000e+08</td>\n",
                            "      <td>2.033899e+07</td>\n",
                            "      <td>219382.000000</td>\n",
                            "      <td>2.033899e+07</td>\n",
                            "      <td>2.033899e+07</td>\n",
                            "      <td>1.663614e+08</td>\n",
                            "      <td>1.000000</td>\n",
                            "      <td>23.000000</td>\n",
                            "      <td>31.000000</td>\n",
                            "      <td>12.000000</td>\n",
                            "      <td>2018.000000</td>\n",
                            "      <td>4.000000</td>\n",
                            "      <td>4.000000</td>\n",
                            "      <td>16738 days 23:00:00</td>\n",
                            "      <td>16738.000000</td>\n",
                            "    </tr>\n",
                            "  </tbody>\n",
                            "</table>\n",
                            "</div>"
                        ]
                    },
                    "metadata": {},
                    "execution_count": 58
                }
            ],
            "metadata": {}
        },
        {
            "cell_type": "code",
            "execution_count": 19,
            "source": [
                "plt.boxplot(df['pledged'])\n",
                "fig = plt.figure(figsize =(10, 7))\n",
                "plt.show()"
            ],
            "outputs": [
                {
                    "output_type": "display_data",
                    "data": {
                        "text/plain": [
                            "<Figure size 432x288 with 1 Axes>"
                        ],
                        "image/png": "[encoded data removed]"
                    },
                    "metadata": {
                        "needs_background": "light"
                    }
                },
                {
                    "output_type": "display_data",
                    "data": {
                        "text/plain": [
                            "<Figure size 720x504 with 0 Axes>"
                        ]
                    },
                    "metadata": {}
                }
            ],
            "metadata": {}
        },
        {
            "cell_type": "code",
            "execution_count": null,
            "source": [
                "sns.boxplot(x=df['pledged'])"
            ],
            "outputs": [
                {
                    "output_type": "execute_result",
                    "data": {
                        "text/plain": [
                            "<AxesSubplot:xlabel='pledged'>"
                        ]
                    },
                    "metadata": {},
                    "execution_count": 9
                },
                {
                    "output_type": "display_data",
                    "data": {
                        "text/plain": [
                            "<Figure size 432x288 with 1 Axes>"
                        ],
                        "image/png": "[encoded data removed]"
                    },
                    "metadata": {
                        "needs_background": "light"
                    }
                }
            ],
            "metadata": {}
        },
        {
            "cell_type": "code",
            "execution_count": null,
            "source": [
                "#iqr = iqr(df['pledged'])\n",
                "#iqr"
            ],
            "outputs": [],
            "metadata": {}
        },
        {
            "cell_type": "code",
            "execution_count": 20,
            "source": [
                "Q1 = df['usd_pledged_real'].quantile(0.25)\n",
                "Q3 = df['usd_pledged_real'].quantile(0.75)\n",
                "IQR = Q3 - Q1"
            ],
            "outputs": [],
            "metadata": {}
        },
        {
            "cell_type": "code",
            "execution_count": 21,
            "source": [
                "# Filtering Values between Q1-1.5IQR and Q3+1.5IQR\n",
                "filtered = df.query('(@Q1 - 1.5 * @IQR) <= usd_pledged_real <= (@Q3 + 1.5 * @IQR)')\n",
                "filtered.info()"
            ],
            "outputs": [
                {
                    "output_type": "stream",
                    "name": "stdout",
                    "text": [
                        "<class 'pandas.core.frame.DataFrame'>\n",
                        "Int64Index: 325819 entries, 0 to 378660\n",
                        "Data columns (total 20 columns):\n",
                        " #   Column            Non-Null Count   Dtype         \n",
                        "---  ------            --------------   -----         \n",
                        " 0   ID                325819 non-null  int64         \n",
                        " 1   name              325815 non-null  object        \n",
                        " 2   category          325819 non-null  object        \n",
                        " 3   main_category     325819 non-null  object        \n",
                        " 4   currency          325819 non-null  object        \n",
                        " 5   deadline          325819 non-null  datetime64[ns]\n",
                        " 6   goal              325819 non-null  float64       \n",
                        " 7   launched          325819 non-null  datetime64[ns]\n",
                        " 8   pledged           325819 non-null  float64       \n",
                        " 9   state             325819 non-null  object        \n",
                        " 10  backers           325819 non-null  int64         \n",
                        " 11  country           325819 non-null  object        \n",
                        " 12  usd pledged       322029 non-null  float64       \n",
                        " 13  usd_pledged_real  325819 non-null  float64       \n",
                        " 14  usd_goal_real     325819 non-null  float64       \n",
                        " 15  success           325819 non-null  float64       \n",
                        " 16  hour              325819 non-null  int64         \n",
                        " 17  day               325819 non-null  int64         \n",
                        " 18  month             325819 non-null  int64         \n",
                        " 19  year              325819 non-null  int64         \n",
                        "dtypes: datetime64[ns](2), float64(6), int64(6), object(6)\n",
                        "memory usage: 52.2+ MB\n"
                    ]
                }
            ],
            "metadata": {}
        },
        {
            "cell_type": "code",
            "execution_count": null,
            "source": [
                "print(filtered.skew())\n"
            ],
            "outputs": [
                {
                    "output_type": "stream",
                    "name": "stdout",
                    "text": [
                        "ID                         -0.001749\n",
                        "goal                       67.339900\n",
                        "pledged                    65.931051\n",
                        "backers                     5.061855\n",
                        "usd pledged                 2.129705\n",
                        "usd_pledged_real            1.839102\n",
                        "usd_goal_real              74.778366\n",
                        "success                     0.980646\n",
                        "hour                       -0.396098\n",
                        "day                         0.059938\n",
                        "month                       0.007826\n",
                        "year                       -0.628928\n",
                        "launch_season_encode        0.085454\n",
                        "deadline_season_encode      0.111323\n",
                        "duration_days             205.421211\n",
                        "dtype: float64\n"
                    ]
                },
                {
                    "output_type": "stream",
                    "name": "stderr",
                    "text": [
                        "/var/folders/__/zlj60b4x2dndz0rl_7m8sl1c0000gp/T/ipykernel_15471/430420131.py:1: FutureWarning: Dropping of nuisance columns in DataFrame reductions (with 'numeric_only=None') is deprecated; in a future version this will raise TypeError.  Select only valid columns before calling the reduction.\n",
                        "  print(filtered.skew())\n"
                    ]
                }
            ],
            "metadata": {}
        },
        {
            "cell_type": "code",
            "execution_count": 22,
            "source": [
                "sns.boxplot(x=filtered['usd_pledged_real'])"
            ],
            "outputs": [
                {
                    "output_type": "execute_result",
                    "data": {
                        "text/plain": [
                            "<AxesSubplot:xlabel='usd_pledged_real'>"
                        ]
                    },
                    "metadata": {},
                    "execution_count": 22
                },
                {
                    "output_type": "display_data",
                    "data": {
                        "text/plain": [
                            "<Figure size 432x288 with 1 Axes>"
                        ],
                        "image/png": "[encoded data removed]"
                    },
                    "metadata": {
                        "needs_background": "light"
                    }
                }
            ],
            "metadata": {}
        },
        {
            "cell_type": "code",
            "execution_count": null,
            "source": [
                "filtered.usd_pledged_real.hist()"
            ],
            "outputs": [
                {
                    "output_type": "execute_result",
                    "data": {
                        "text/plain": [
                            "<AxesSubplot:>"
                        ]
                    },
                    "metadata": {},
                    "execution_count": 75
                },
                {
                    "output_type": "display_data",
                    "data": {
                        "text/plain": [
                            "<Figure size 432x288 with 1 Axes>"
                        ],
                        "image/png": "[encoded data removed]"
                    },
                    "metadata": {
                        "needs_background": "light"
                    }
                }
            ],
            "metadata": {}
        },
        {
            "cell_type": "code",
            "execution_count": null,
            "source": [
                "filtered.head()"
            ],
            "outputs": [
                {
                    "output_type": "execute_result",
                    "data": {
                        "text/plain": [
                            "           ID                                               name  \\\n",
                            "0  1000002330                    The Songs of Adelaide & Abullah   \n",
                            "1  1000003930      Greeting From Earth: ZGAC Arts Capsule For ET   \n",
                            "2  1000004038                                     Where is Hank?   \n",
                            "3  1000007540  ToshiCapital Rekordz Needs Help to Complete Album   \n",
                            "4  1000011046  Community Film Project: The Art of Neighborhoo...   \n",
                            "\n",
                            "         category main_category currency   deadline     goal  \\\n",
                            "0          Poetry    Publishing      GBP 2015-10-09   1000.0   \n",
                            "1  Narrative Film  Film & Video      USD 2017-11-01  30000.0   \n",
                            "2  Narrative Film  Film & Video      USD 2013-02-26  45000.0   \n",
                            "3           Music         Music      USD 2012-04-16   5000.0   \n",
                            "4    Film & Video  Film & Video      USD 2015-08-29  19500.0   \n",
                            "\n",
                            "             launched  pledged     state  ...  hour day  month  year  \\\n",
                            "0 2015-08-11 12:12:28      0.0    failed  ...    12  11      8  2015   \n",
                            "1 2017-09-02 04:43:57   2421.0    failed  ...     4   2      9  2017   \n",
                            "2 2013-01-12 00:20:50    220.0    failed  ...     0  12      1  2013   \n",
                            "3 2012-03-17 03:24:11      1.0    failed  ...     3  17      3  2012   \n",
                            "4 2015-07-04 08:35:03   1283.0  canceled  ...     8   4      7  2015   \n",
                            "\n",
                            "   launch_season  deadline_season  launch_season_encode  \\\n",
                            "0         Summer             Fall                     2   \n",
                            "1         Summer             Fall                     2   \n",
                            "2         Winter           Winter                     4   \n",
                            "3         Winter           Spring                     4   \n",
                            "4         Summer           Summer                     2   \n",
                            "\n",
                            "   deadline_season_encode         duration  duration_days  \n",
                            "0                       3 58 days 11:47:32             58  \n",
                            "1                       3 59 days 19:16:03             59  \n",
                            "2                       4 44 days 23:39:10             44  \n",
                            "3                       1 29 days 20:35:49             29  \n",
                            "4                       2 55 days 15:24:57             55  \n",
                            "\n",
                            "[5 rows x 26 columns]"
                        ],
                        "text/html": [
                            "<div>\n",
                            "<style scoped>\n",
                            "    .dataframe tbody tr th:only-of-type {\n",
                            "        vertical-align: middle;\n",
                            "    }\n",
                            "\n",
                            "    .dataframe tbody tr th {\n",
                            "        vertical-align: top;\n",
                            "    }\n",
                            "\n",
                            "    .dataframe thead th {\n",
                            "        text-align: right;\n",
                            "    }\n",
                            "</style>\n",
                            "<table border=\"1\" class=\"dataframe\">\n",
                            "  <thead>\n",
                            "    <tr style=\"text-align: right;\">\n",
                            "      <th></th>\n",
                            "      <th>ID</th>\n",
                            "      <th>name</th>\n",
                            "      <th>category</th>\n",
                            "      <th>main_category</th>\n",
                            "      <th>currency</th>\n",
                            "      <th>deadline</th>\n",
                            "      <th>goal</th>\n",
                            "      <th>launched</th>\n",
                            "      <th>pledged</th>\n",
                            "      <th>state</th>\n",
                            "      <th>...</th>\n",
                            "      <th>hour</th>\n",
                            "      <th>day</th>\n",
                            "      <th>month</th>\n",
                            "      <th>year</th>\n",
                            "      <th>launch_season</th>\n",
                            "      <th>deadline_season</th>\n",
                            "      <th>launch_season_encode</th>\n",
                            "      <th>deadline_season_encode</th>\n",
                            "      <th>duration</th>\n",
                            "      <th>duration_days</th>\n",
                            "    </tr>\n",
                            "  </thead>\n",
                            "  <tbody>\n",
                            "    <tr>\n",
                            "      <th>0</th>\n",
                            "      <td>1000002330</td>\n",
                            "      <td>The Songs of Adelaide &amp; Abullah</td>\n",
                            "      <td>Poetry</td>\n",
                            "      <td>Publishing</td>\n",
                            "      <td>GBP</td>\n",
                            "      <td>2015-10-09</td>\n",
                            "      <td>1000.0</td>\n",
                            "      <td>2015-08-11 12:12:28</td>\n",
                            "      <td>0.0</td>\n",
                            "      <td>failed</td>\n",
                            "      <td>...</td>\n",
                            "      <td>12</td>\n",
                            "      <td>11</td>\n",
                            "      <td>8</td>\n",
                            "      <td>2015</td>\n",
                            "      <td>Summer</td>\n",
                            "      <td>Fall</td>\n",
                            "      <td>2</td>\n",
                            "      <td>3</td>\n",
                            "      <td>58 days 11:47:32</td>\n",
                            "      <td>58</td>\n",
                            "    </tr>\n",
                            "    <tr>\n",
                            "      <th>1</th>\n",
                            "      <td>1000003930</td>\n",
                            "      <td>Greeting From Earth: ZGAC Arts Capsule For ET</td>\n",
                            "      <td>Narrative Film</td>\n",
                            "      <td>Film &amp; Video</td>\n",
                            "      <td>USD</td>\n",
                            "      <td>2017-11-01</td>\n",
                            "      <td>30000.0</td>\n",
                            "      <td>2017-09-02 04:43:57</td>\n",
                            "      <td>2421.0</td>\n",
                            "      <td>failed</td>\n",
                            "      <td>...</td>\n",
                            "      <td>4</td>\n",
                            "      <td>2</td>\n",
                            "      <td>9</td>\n",
                            "      <td>2017</td>\n",
                            "      <td>Summer</td>\n",
                            "      <td>Fall</td>\n",
                            "      <td>2</td>\n",
                            "      <td>3</td>\n",
                            "      <td>59 days 19:16:03</td>\n",
                            "      <td>59</td>\n",
                            "    </tr>\n",
                            "    <tr>\n",
                            "      <th>2</th>\n",
                            "      <td>1000004038</td>\n",
                            "      <td>Where is Hank?</td>\n",
                            "      <td>Narrative Film</td>\n",
                            "      <td>Film &amp; Video</td>\n",
                            "      <td>USD</td>\n",
                            "      <td>2013-02-26</td>\n",
                            "      <td>45000.0</td>\n",
                            "      <td>2013-01-12 00:20:50</td>\n",
                            "      <td>220.0</td>\n",
                            "      <td>failed</td>\n",
                            "      <td>...</td>\n",
                            "      <td>0</td>\n",
                            "      <td>12</td>\n",
                            "      <td>1</td>\n",
                            "      <td>2013</td>\n",
                            "      <td>Winter</td>\n",
                            "      <td>Winter</td>\n",
                            "      <td>4</td>\n",
                            "      <td>4</td>\n",
                            "      <td>44 days 23:39:10</td>\n",
                            "      <td>44</td>\n",
                            "    </tr>\n",
                            "    <tr>\n",
                            "      <th>3</th>\n",
                            "      <td>1000007540</td>\n",
                            "      <td>ToshiCapital Rekordz Needs Help to Complete Album</td>\n",
                            "      <td>Music</td>\n",
                            "      <td>Music</td>\n",
                            "      <td>USD</td>\n",
                            "      <td>2012-04-16</td>\n",
                            "      <td>5000.0</td>\n",
                            "      <td>2012-03-17 03:24:11</td>\n",
                            "      <td>1.0</td>\n",
                            "      <td>failed</td>\n",
                            "      <td>...</td>\n",
                            "      <td>3</td>\n",
                            "      <td>17</td>\n",
                            "      <td>3</td>\n",
                            "      <td>2012</td>\n",
                            "      <td>Winter</td>\n",
                            "      <td>Spring</td>\n",
                            "      <td>4</td>\n",
                            "      <td>1</td>\n",
                            "      <td>29 days 20:35:49</td>\n",
                            "      <td>29</td>\n",
                            "    </tr>\n",
                            "    <tr>\n",
                            "      <th>4</th>\n",
                            "      <td>1000011046</td>\n",
                            "      <td>Community Film Project: The Art of Neighborhoo...</td>\n",
                            "      <td>Film &amp; Video</td>\n",
                            "      <td>Film &amp; Video</td>\n",
                            "      <td>USD</td>\n",
                            "      <td>2015-08-29</td>\n",
                            "      <td>19500.0</td>\n",
                            "      <td>2015-07-04 08:35:03</td>\n",
                            "      <td>1283.0</td>\n",
                            "      <td>canceled</td>\n",
                            "      <td>...</td>\n",
                            "      <td>8</td>\n",
                            "      <td>4</td>\n",
                            "      <td>7</td>\n",
                            "      <td>2015</td>\n",
                            "      <td>Summer</td>\n",
                            "      <td>Summer</td>\n",
                            "      <td>2</td>\n",
                            "      <td>2</td>\n",
                            "      <td>55 days 15:24:57</td>\n",
                            "      <td>55</td>\n",
                            "    </tr>\n",
                            "  </tbody>\n",
                            "</table>\n",
                            "<p>5 rows × 26 columns</p>\n",
                            "</div>"
                        ]
                    },
                    "metadata": {},
                    "execution_count": 77
                }
            ],
            "metadata": {}
        },
        {
            "cell_type": "code",
            "execution_count": null,
            "source": [
                "fig, ax = plt.subplots(figsize=(20,10))\n",
                "ax.scatter(filtered['goal'], filtered['usd_pledged_real'])\n",
                "ax.set_xlabel('Goal')\n",
                "ax.set_ylabel('Pledged')\n",
                "plt.show()"
            ],
            "outputs": [
                {
                    "output_type": "display_data",
                    "data": {
                        "text/plain": [
                            "<Figure size 1440x720 with 1 Axes>"
                        ],
                        "image/png": "[encoded data removed]"
                    },
                    "metadata": {
                        "needs_background": "light"
                    }
                }
            ],
            "metadata": {}
        },
        {
            "cell_type": "code",
            "execution_count": 23,
            "source": [
                "#seeing how many unique values are there in the category column\n",
                "filtered['category'].nunique()"
            ],
            "outputs": [
                {
                    "output_type": "execute_result",
                    "data": {
                        "text/plain": [
                            "159"
                        ]
                    },
                    "metadata": {},
                    "execution_count": 23
                }
            ],
            "metadata": {}
        },
        {
            "cell_type": "code",
            "execution_count": null,
            "source": [
                "df['state'].value_counts()"
            ],
            "outputs": [
                {
                    "output_type": "execute_result",
                    "data": {
                        "text/plain": [
                            "failed        197719\n",
                            "successful    133956\n",
                            "canceled       38779\n",
                            "undefined       3562\n",
                            "suspended       1846\n",
                            "Name: state, dtype: int64"
                        ]
                    },
                    "metadata": {},
                    "execution_count": 149
                }
            ],
            "metadata": {}
        },
        {
            "cell_type": "code",
            "execution_count": null,
            "source": [
                "#df['success'].value_counts()"
            ],
            "outputs": [],
            "metadata": {}
        },
        {
            "cell_type": "code",
            "execution_count": 27,
            "source": [
                "def seasons(date_ranges):\n",
                "  season = \"\"\n",
                "  if date_ranges is pd.NaT:\n",
                "    return \"NAN\"\n",
                "  else:\n",
                "    #print(date_ranges)\n",
                "    str_date_range = date_ranges.strftime(\"%m-%d\")\n",
                "    #print(date_ranges.strftime(\"%m-%d\"))\n",
                "    #print(date_ranges.strftime(\"%m-%d\") > \"08-26\")\n",
                "    if str_date_range >= \"12-21\" or str_date_range <= \"03-20\":\n",
                "      season = \"Winter\"\n",
                "    if str_date_range >= \"03-21\" and str_date_range <=\"06-20\":\n",
                "      season = \"Spring\"\n",
                "    if str_date_range >=\"06-21\" and str_date_range <=\"09-20\":\n",
                "      season = \"Summer\"\n",
                "    if str_date_range >=\"09-21\" and str_date_range <=\"12-20\":\n",
                "      season = \"Fall\"\n",
                "    return season\n",
                "    \n",
                "filtered['launch_season'] = filtered['launched'].apply(seasons)\n",
                "filtered['deadline_season'] = filtered['deadline'].apply(seasons)"
            ],
            "outputs": [
                {
                    "output_type": "stream",
                    "name": "stderr",
                    "text": [
                        "/var/folders/__/zlj60b4x2dndz0rl_7m8sl1c0000gp/T/ipykernel_23719/4159332542.py:20: SettingWithCopyWarning: \n",
                        "A value is trying to be set on a copy of a slice from a DataFrame.\n",
                        "Try using .loc[row_indexer,col_indexer] = value instead\n",
                        "\n",
                        "See the caveats in the documentation: https://pandas.pydata.org/pandas-docs/stable/user_guide/indexing.html#returning-a-view-versus-a-copy\n",
                        "  filtered['launch_season'] = filtered['launched'].apply(seasons)\n",
                        "/var/folders/__/zlj60b4x2dndz0rl_7m8sl1c0000gp/T/ipykernel_23719/4159332542.py:21: SettingWithCopyWarning: \n",
                        "A value is trying to be set on a copy of a slice from a DataFrame.\n",
                        "Try using .loc[row_indexer,col_indexer] = value instead\n",
                        "\n",
                        "See the caveats in the documentation: https://pandas.pydata.org/pandas-docs/stable/user_guide/indexing.html#returning-a-view-versus-a-copy\n",
                        "  filtered['deadline_season'] = filtered['deadline'].apply(seasons)\n"
                    ]
                }
            ],
            "metadata": {}
        },
        {
            "cell_type": "code",
            "execution_count": 28,
            "source": [
                "def season_encoder(values):\n",
                "  inter = 0\n",
                "  if values == \"Spring\":\n",
                "    inter = 1\n",
                "  elif values == \"Summer\":\n",
                "    inter = 2\n",
                "  elif values == \"Fall\":\n",
                "    inter = 3\n",
                "  elif values == \"Winter\":\n",
                "    inter = 4\n",
                "  else:\n",
                "    inter = \"NAN\"\n",
                "  return inter\n",
                "\n",
                "filtered['launch_season_encode'] = filtered['launch_season'].apply(season_encoder)\n",
                "filtered['deadline_season_encode'] = filtered['deadline_season'].apply(season_encoder)"
            ],
            "outputs": [
                {
                    "output_type": "stream",
                    "name": "stderr",
                    "text": [
                        "/var/folders/__/zlj60b4x2dndz0rl_7m8sl1c0000gp/T/ipykernel_23719/3274264081.py:15: SettingWithCopyWarning: \n",
                        "A value is trying to be set on a copy of a slice from a DataFrame.\n",
                        "Try using .loc[row_indexer,col_indexer] = value instead\n",
                        "\n",
                        "See the caveats in the documentation: https://pandas.pydata.org/pandas-docs/stable/user_guide/indexing.html#returning-a-view-versus-a-copy\n",
                        "  filtered['launch_season_encode'] = filtered['launch_season'].apply(season_encoder)\n",
                        "/var/folders/__/zlj60b4x2dndz0rl_7m8sl1c0000gp/T/ipykernel_23719/3274264081.py:16: SettingWithCopyWarning: \n",
                        "A value is trying to be set on a copy of a slice from a DataFrame.\n",
                        "Try using .loc[row_indexer,col_indexer] = value instead\n",
                        "\n",
                        "See the caveats in the documentation: https://pandas.pydata.org/pandas-docs/stable/user_guide/indexing.html#returning-a-view-versus-a-copy\n",
                        "  filtered['deadline_season_encode'] = filtered['deadline_season'].apply(season_encoder)\n"
                    ]
                }
            ],
            "metadata": {}
        },
        {
            "cell_type": "code",
            "execution_count": 131,
            "source": [
                "filtered['launched'] = pd.to_datetime(filtered['launched'])\n",
                "filtered['deadline'] = pd.to_datetime(filtered['deadline'])\n",
                "filtered['duration'] = filtered['deadline'] - filtered['launched']\n",
                "filtered['duration'] = filtered['duration'].dt.days"
            ],
            "outputs": [
                {
                    "output_type": "stream",
                    "name": "stderr",
                    "text": [
                        "/var/folders/__/zlj60b4x2dndz0rl_7m8sl1c0000gp/T/ipykernel_23719/4004875353.py:1: SettingWithCopyWarning: \n",
                        "A value is trying to be set on a copy of a slice from a DataFrame.\n",
                        "Try using .loc[row_indexer,col_indexer] = value instead\n",
                        "\n",
                        "See the caveats in the documentation: https://pandas.pydata.org/pandas-docs/stable/user_guide/indexing.html#returning-a-view-versus-a-copy\n",
                        "  filtered['launched'] = pd.to_datetime(filtered['launched'])\n",
                        "/var/folders/__/zlj60b4x2dndz0rl_7m8sl1c0000gp/T/ipykernel_23719/4004875353.py:2: SettingWithCopyWarning: \n",
                        "A value is trying to be set on a copy of a slice from a DataFrame.\n",
                        "Try using .loc[row_indexer,col_indexer] = value instead\n",
                        "\n",
                        "See the caveats in the documentation: https://pandas.pydata.org/pandas-docs/stable/user_guide/indexing.html#returning-a-view-versus-a-copy\n",
                        "  filtered['deadline'] = pd.to_datetime(filtered['deadline'])\n",
                        "/var/folders/__/zlj60b4x2dndz0rl_7m8sl1c0000gp/T/ipykernel_23719/4004875353.py:3: SettingWithCopyWarning: \n",
                        "A value is trying to be set on a copy of a slice from a DataFrame.\n",
                        "Try using .loc[row_indexer,col_indexer] = value instead\n",
                        "\n",
                        "See the caveats in the documentation: https://pandas.pydata.org/pandas-docs/stable/user_guide/indexing.html#returning-a-view-versus-a-copy\n",
                        "  filtered['duration'] = filtered['deadline'] - filtered['launched']\n",
                        "/var/folders/__/zlj60b4x2dndz0rl_7m8sl1c0000gp/T/ipykernel_23719/4004875353.py:4: SettingWithCopyWarning: \n",
                        "A value is trying to be set on a copy of a slice from a DataFrame.\n",
                        "Try using .loc[row_indexer,col_indexer] = value instead\n",
                        "\n",
                        "See the caveats in the documentation: https://pandas.pydata.org/pandas-docs/stable/user_guide/indexing.html#returning-a-view-versus-a-copy\n",
                        "  filtered['duration'] = filtered['duration'].dt.days\n"
                    ]
                }
            ],
            "metadata": {}
        },
        {
            "cell_type": "code",
            "execution_count": 98,
            "source": [
                "filtered.head()"
            ],
            "outputs": [
                {
                    "output_type": "execute_result",
                    "data": {
                        "text/plain": [
                            "           ID                                               name  \\\n",
                            "0  1000002330                    The Songs of Adelaide & Abullah   \n",
                            "1  1000003930      Greeting From Earth: ZGAC Arts Capsule For ET   \n",
                            "2  1000004038                                     Where is Hank?   \n",
                            "3  1000007540  ToshiCapital Rekordz Needs Help to Complete Album   \n",
                            "4  1000011046  Community Film Project: The Art of Neighborhoo...   \n",
                            "\n",
                            "         category main_category currency   deadline     goal  \\\n",
                            "0          Poetry    Publishing      GBP 2015-10-09   1000.0   \n",
                            "1  Narrative Film  Film & Video      USD 2017-11-01  30000.0   \n",
                            "2  Narrative Film  Film & Video      USD 2013-02-26  45000.0   \n",
                            "3           Music         Music      USD 2012-04-16   5000.0   \n",
                            "4    Film & Video  Film & Video      USD 2015-08-29  19500.0   \n",
                            "\n",
                            "             launched  pledged     state  ...  hour day  month  year  \\\n",
                            "0 2015-08-11 12:12:28      0.0    failed  ...    12  11      8  2015   \n",
                            "1 2017-09-02 04:43:57   2421.0    failed  ...     4   2      9  2017   \n",
                            "2 2013-01-12 00:20:50    220.0    failed  ...     0  12      1  2013   \n",
                            "3 2012-03-17 03:24:11      1.0    failed  ...     3  17      3  2012   \n",
                            "4 2015-07-04 08:35:03   1283.0  canceled  ...     8   4      7  2015   \n",
                            "\n",
                            "   launch_season  deadline_season  launch_season_encode  \\\n",
                            "0         Summer             Fall                     2   \n",
                            "1         Summer             Fall                     2   \n",
                            "2         Winter           Winter                     4   \n",
                            "3         Winter           Spring                     4   \n",
                            "4         Summer           Summer                     2   \n",
                            "\n",
                            "   deadline_season_encode  duration  duration_days  \n",
                            "0                       3        58             58  \n",
                            "1                       3        59             59  \n",
                            "2                       4        44             44  \n",
                            "3                       1        29             29  \n",
                            "4                       2        55             55  \n",
                            "\n",
                            "[5 rows x 26 columns]"
                        ],
                        "text/html": [
                            "<div>\n",
                            "<style scoped>\n",
                            "    .dataframe tbody tr th:only-of-type {\n",
                            "        vertical-align: middle;\n",
                            "    }\n",
                            "\n",
                            "    .dataframe tbody tr th {\n",
                            "        vertical-align: top;\n",
                            "    }\n",
                            "\n",
                            "    .dataframe thead th {\n",
                            "        text-align: right;\n",
                            "    }\n",
                            "</style>\n",
                            "<table border=\"1\" class=\"dataframe\">\n",
                            "  <thead>\n",
                            "    <tr style=\"text-align: right;\">\n",
                            "      <th></th>\n",
                            "      <th>ID</th>\n",
                            "      <th>name</th>\n",
                            "      <th>category</th>\n",
                            "      <th>main_category</th>\n",
                            "      <th>currency</th>\n",
                            "      <th>deadline</th>\n",
                            "      <th>goal</th>\n",
                            "      <th>launched</th>\n",
                            "      <th>pledged</th>\n",
                            "      <th>state</th>\n",
                            "      <th>...</th>\n",
                            "      <th>hour</th>\n",
                            "      <th>day</th>\n",
                            "      <th>month</th>\n",
                            "      <th>year</th>\n",
                            "      <th>launch_season</th>\n",
                            "      <th>deadline_season</th>\n",
                            "      <th>launch_season_encode</th>\n",
                            "      <th>deadline_season_encode</th>\n",
                            "      <th>duration</th>\n",
                            "      <th>duration_days</th>\n",
                            "    </tr>\n",
                            "  </thead>\n",
                            "  <tbody>\n",
                            "    <tr>\n",
                            "      <th>0</th>\n",
                            "      <td>1000002330</td>\n",
                            "      <td>The Songs of Adelaide &amp; Abullah</td>\n",
                            "      <td>Poetry</td>\n",
                            "      <td>Publishing</td>\n",
                            "      <td>GBP</td>\n",
                            "      <td>2015-10-09</td>\n",
                            "      <td>1000.0</td>\n",
                            "      <td>2015-08-11 12:12:28</td>\n",
                            "      <td>0.0</td>\n",
                            "      <td>failed</td>\n",
                            "      <td>...</td>\n",
                            "      <td>12</td>\n",
                            "      <td>11</td>\n",
                            "      <td>8</td>\n",
                            "      <td>2015</td>\n",
                            "      <td>Summer</td>\n",
                            "      <td>Fall</td>\n",
                            "      <td>2</td>\n",
                            "      <td>3</td>\n",
                            "      <td>58</td>\n",
                            "      <td>58</td>\n",
                            "    </tr>\n",
                            "    <tr>\n",
                            "      <th>1</th>\n",
                            "      <td>1000003930</td>\n",
                            "      <td>Greeting From Earth: ZGAC Arts Capsule For ET</td>\n",
                            "      <td>Narrative Film</td>\n",
                            "      <td>Film &amp; Video</td>\n",
                            "      <td>USD</td>\n",
                            "      <td>2017-11-01</td>\n",
                            "      <td>30000.0</td>\n",
                            "      <td>2017-09-02 04:43:57</td>\n",
                            "      <td>2421.0</td>\n",
                            "      <td>failed</td>\n",
                            "      <td>...</td>\n",
                            "      <td>4</td>\n",
                            "      <td>2</td>\n",
                            "      <td>9</td>\n",
                            "      <td>2017</td>\n",
                            "      <td>Summer</td>\n",
                            "      <td>Fall</td>\n",
                            "      <td>2</td>\n",
                            "      <td>3</td>\n",
                            "      <td>59</td>\n",
                            "      <td>59</td>\n",
                            "    </tr>\n",
                            "    <tr>\n",
                            "      <th>2</th>\n",
                            "      <td>1000004038</td>\n",
                            "      <td>Where is Hank?</td>\n",
                            "      <td>Narrative Film</td>\n",
                            "      <td>Film &amp; Video</td>\n",
                            "      <td>USD</td>\n",
                            "      <td>2013-02-26</td>\n",
                            "      <td>45000.0</td>\n",
                            "      <td>2013-01-12 00:20:50</td>\n",
                            "      <td>220.0</td>\n",
                            "      <td>failed</td>\n",
                            "      <td>...</td>\n",
                            "      <td>0</td>\n",
                            "      <td>12</td>\n",
                            "      <td>1</td>\n",
                            "      <td>2013</td>\n",
                            "      <td>Winter</td>\n",
                            "      <td>Winter</td>\n",
                            "      <td>4</td>\n",
                            "      <td>4</td>\n",
                            "      <td>44</td>\n",
                            "      <td>44</td>\n",
                            "    </tr>\n",
                            "    <tr>\n",
                            "      <th>3</th>\n",
                            "      <td>1000007540</td>\n",
                            "      <td>ToshiCapital Rekordz Needs Help to Complete Album</td>\n",
                            "      <td>Music</td>\n",
                            "      <td>Music</td>\n",
                            "      <td>USD</td>\n",
                            "      <td>2012-04-16</td>\n",
                            "      <td>5000.0</td>\n",
                            "      <td>2012-03-17 03:24:11</td>\n",
                            "      <td>1.0</td>\n",
                            "      <td>failed</td>\n",
                            "      <td>...</td>\n",
                            "      <td>3</td>\n",
                            "      <td>17</td>\n",
                            "      <td>3</td>\n",
                            "      <td>2012</td>\n",
                            "      <td>Winter</td>\n",
                            "      <td>Spring</td>\n",
                            "      <td>4</td>\n",
                            "      <td>1</td>\n",
                            "      <td>29</td>\n",
                            "      <td>29</td>\n",
                            "    </tr>\n",
                            "    <tr>\n",
                            "      <th>4</th>\n",
                            "      <td>1000011046</td>\n",
                            "      <td>Community Film Project: The Art of Neighborhoo...</td>\n",
                            "      <td>Film &amp; Video</td>\n",
                            "      <td>Film &amp; Video</td>\n",
                            "      <td>USD</td>\n",
                            "      <td>2015-08-29</td>\n",
                            "      <td>19500.0</td>\n",
                            "      <td>2015-07-04 08:35:03</td>\n",
                            "      <td>1283.0</td>\n",
                            "      <td>canceled</td>\n",
                            "      <td>...</td>\n",
                            "      <td>8</td>\n",
                            "      <td>4</td>\n",
                            "      <td>7</td>\n",
                            "      <td>2015</td>\n",
                            "      <td>Summer</td>\n",
                            "      <td>Summer</td>\n",
                            "      <td>2</td>\n",
                            "      <td>2</td>\n",
                            "      <td>55</td>\n",
                            "      <td>55</td>\n",
                            "    </tr>\n",
                            "  </tbody>\n",
                            "</table>\n",
                            "<p>5 rows × 26 columns</p>\n",
                            "</div>"
                        ]
                    },
                    "metadata": {},
                    "execution_count": 98
                }
            ],
            "metadata": {}
        },
        {
            "cell_type": "code",
            "execution_count": 132,
            "source": [
                "#choosing categorical features to be in the model\n",
                "cat_features = ['country', 'currency', 'main_category']\n",
                "\n",
                "#label encoding and creating new dataframe with encoded columns\n",
                "encoder = LabelEncoder()\n",
                "encoded = filtered[cat_features].apply(encoder.fit_transform)\n",
                "encoded.head()"
            ],
            "outputs": [
                {
                    "output_type": "execute_result",
                    "data": {
                        "text/plain": [
                            "   country  currency  main_category\n",
                            "0        9         5             12\n",
                            "1       22        13              6\n",
                            "2       22        13              6\n",
                            "3       22        13             10\n",
                            "4       22        13              6"
                        ],
                        "text/html": [
                            "<div>\n",
                            "<style scoped>\n",
                            "    .dataframe tbody tr th:only-of-type {\n",
                            "        vertical-align: middle;\n",
                            "    }\n",
                            "\n",
                            "    .dataframe tbody tr th {\n",
                            "        vertical-align: top;\n",
                            "    }\n",
                            "\n",
                            "    .dataframe thead th {\n",
                            "        text-align: right;\n",
                            "    }\n",
                            "</style>\n",
                            "<table border=\"1\" class=\"dataframe\">\n",
                            "  <thead>\n",
                            "    <tr style=\"text-align: right;\">\n",
                            "      <th></th>\n",
                            "      <th>country</th>\n",
                            "      <th>currency</th>\n",
                            "      <th>main_category</th>\n",
                            "    </tr>\n",
                            "  </thead>\n",
                            "  <tbody>\n",
                            "    <tr>\n",
                            "      <th>0</th>\n",
                            "      <td>9</td>\n",
                            "      <td>5</td>\n",
                            "      <td>12</td>\n",
                            "    </tr>\n",
                            "    <tr>\n",
                            "      <th>1</th>\n",
                            "      <td>22</td>\n",
                            "      <td>13</td>\n",
                            "      <td>6</td>\n",
                            "    </tr>\n",
                            "    <tr>\n",
                            "      <th>2</th>\n",
                            "      <td>22</td>\n",
                            "      <td>13</td>\n",
                            "      <td>6</td>\n",
                            "    </tr>\n",
                            "    <tr>\n",
                            "      <th>3</th>\n",
                            "      <td>22</td>\n",
                            "      <td>13</td>\n",
                            "      <td>10</td>\n",
                            "    </tr>\n",
                            "    <tr>\n",
                            "      <th>4</th>\n",
                            "      <td>22</td>\n",
                            "      <td>13</td>\n",
                            "      <td>6</td>\n",
                            "    </tr>\n",
                            "  </tbody>\n",
                            "</table>\n",
                            "</div>"
                        ]
                    },
                    "metadata": {},
                    "execution_count": 132
                }
            ],
            "metadata": {}
        },
        {
            "cell_type": "code",
            "execution_count": 133,
            "source": [
                "#choosing data columns to be in model and joining with categorical col above\n",
                "data_features = ['goal', 'month', 'year', 'success', 'duration']\n",
                "baseline = filtered[data_features].join(encoded)\n",
                "baseline.head()"
            ],
            "outputs": [
                {
                    "output_type": "execute_result",
                    "data": {
                        "text/plain": [
                            "      goal  month  year  success  duration  country  currency  main_category\n",
                            "0   1000.0      8  2015      0.0        58        9         5             12\n",
                            "1  30000.0      9  2017      0.0        59       22        13              6\n",
                            "2  45000.0      1  2013      0.0        44       22        13              6\n",
                            "3   5000.0      3  2012      0.0        29       22        13             10\n",
                            "4  19500.0      7  2015      0.0        55       22        13              6"
                        ],
                        "text/html": [
                            "<div>\n",
                            "<style scoped>\n",
                            "    .dataframe tbody tr th:only-of-type {\n",
                            "        vertical-align: middle;\n",
                            "    }\n",
                            "\n",
                            "    .dataframe tbody tr th {\n",
                            "        vertical-align: top;\n",
                            "    }\n",
                            "\n",
                            "    .dataframe thead th {\n",
                            "        text-align: right;\n",
                            "    }\n",
                            "</style>\n",
                            "<table border=\"1\" class=\"dataframe\">\n",
                            "  <thead>\n",
                            "    <tr style=\"text-align: right;\">\n",
                            "      <th></th>\n",
                            "      <th>goal</th>\n",
                            "      <th>month</th>\n",
                            "      <th>year</th>\n",
                            "      <th>success</th>\n",
                            "      <th>duration</th>\n",
                            "      <th>country</th>\n",
                            "      <th>currency</th>\n",
                            "      <th>main_category</th>\n",
                            "    </tr>\n",
                            "  </thead>\n",
                            "  <tbody>\n",
                            "    <tr>\n",
                            "      <th>0</th>\n",
                            "      <td>1000.0</td>\n",
                            "      <td>8</td>\n",
                            "      <td>2015</td>\n",
                            "      <td>0.0</td>\n",
                            "      <td>58</td>\n",
                            "      <td>9</td>\n",
                            "      <td>5</td>\n",
                            "      <td>12</td>\n",
                            "    </tr>\n",
                            "    <tr>\n",
                            "      <th>1</th>\n",
                            "      <td>30000.0</td>\n",
                            "      <td>9</td>\n",
                            "      <td>2017</td>\n",
                            "      <td>0.0</td>\n",
                            "      <td>59</td>\n",
                            "      <td>22</td>\n",
                            "      <td>13</td>\n",
                            "      <td>6</td>\n",
                            "    </tr>\n",
                            "    <tr>\n",
                            "      <th>2</th>\n",
                            "      <td>45000.0</td>\n",
                            "      <td>1</td>\n",
                            "      <td>2013</td>\n",
                            "      <td>0.0</td>\n",
                            "      <td>44</td>\n",
                            "      <td>22</td>\n",
                            "      <td>13</td>\n",
                            "      <td>6</td>\n",
                            "    </tr>\n",
                            "    <tr>\n",
                            "      <th>3</th>\n",
                            "      <td>5000.0</td>\n",
                            "      <td>3</td>\n",
                            "      <td>2012</td>\n",
                            "      <td>0.0</td>\n",
                            "      <td>29</td>\n",
                            "      <td>22</td>\n",
                            "      <td>13</td>\n",
                            "      <td>10</td>\n",
                            "    </tr>\n",
                            "    <tr>\n",
                            "      <th>4</th>\n",
                            "      <td>19500.0</td>\n",
                            "      <td>7</td>\n",
                            "      <td>2015</td>\n",
                            "      <td>0.0</td>\n",
                            "      <td>55</td>\n",
                            "      <td>22</td>\n",
                            "      <td>13</td>\n",
                            "      <td>6</td>\n",
                            "    </tr>\n",
                            "  </tbody>\n",
                            "</table>\n",
                            "</div>"
                        ]
                    },
                    "metadata": {},
                    "execution_count": 133
                }
            ],
            "metadata": {}
        },
        {
            "cell_type": "code",
            "execution_count": 134,
            "source": [
                "#creating new columns to show time since last project was launched\n",
                "def time_since_last_project(series):\n",
                "\n",
                "    return series.diff().dt.total_seconds() / 3600\n",
                "\n",
                "ks = filtered[['category', 'launched']].sort_values('launched')\n",
                "time_dif = ks.groupby('category').transform(time_since_last_project)\n",
                "time_dif = time_dif.fillna(time_dif.max())\n",
                "\n",
                "\n",
                "baseline = baseline.join(time_dif.rename({'launched': 'time_since_last_project'}, axis=1))\n",
                "baseline.head()\n"
            ],
            "outputs": [
                {
                    "output_type": "execute_result",
                    "data": {
                        "text/plain": [
                            "      goal  month  year  success  duration  country  currency  main_category  \\\n",
                            "0   1000.0      8  2015      0.0        58        9         5             12   \n",
                            "1  30000.0      9  2017      0.0        59       22        13              6   \n",
                            "2  45000.0      1  2013      0.0        44       22        13              6   \n",
                            "3   5000.0      3  2012      0.0        29       22        13             10   \n",
                            "4  19500.0      7  2015      0.0        55       22        13              6   \n",
                            "\n",
                            "   time_since_last_project  \n",
                            "0                18.606111  \n",
                            "1                 5.592778  \n",
                            "2                 1.313611  \n",
                            "3                 0.635000  \n",
                            "4                16.661389  "
                        ],
                        "text/html": [
                            "<div>\n",
                            "<style scoped>\n",
                            "    .dataframe tbody tr th:only-of-type {\n",
                            "        vertical-align: middle;\n",
                            "    }\n",
                            "\n",
                            "    .dataframe tbody tr th {\n",
                            "        vertical-align: top;\n",
                            "    }\n",
                            "\n",
                            "    .dataframe thead th {\n",
                            "        text-align: right;\n",
                            "    }\n",
                            "</style>\n",
                            "<table border=\"1\" class=\"dataframe\">\n",
                            "  <thead>\n",
                            "    <tr style=\"text-align: right;\">\n",
                            "      <th></th>\n",
                            "      <th>goal</th>\n",
                            "      <th>month</th>\n",
                            "      <th>year</th>\n",
                            "      <th>success</th>\n",
                            "      <th>duration</th>\n",
                            "      <th>country</th>\n",
                            "      <th>currency</th>\n",
                            "      <th>main_category</th>\n",
                            "      <th>time_since_last_project</th>\n",
                            "    </tr>\n",
                            "  </thead>\n",
                            "  <tbody>\n",
                            "    <tr>\n",
                            "      <th>0</th>\n",
                            "      <td>1000.0</td>\n",
                            "      <td>8</td>\n",
                            "      <td>2015</td>\n",
                            "      <td>0.0</td>\n",
                            "      <td>58</td>\n",
                            "      <td>9</td>\n",
                            "      <td>5</td>\n",
                            "      <td>12</td>\n",
                            "      <td>18.606111</td>\n",
                            "    </tr>\n",
                            "    <tr>\n",
                            "      <th>1</th>\n",
                            "      <td>30000.0</td>\n",
                            "      <td>9</td>\n",
                            "      <td>2017</td>\n",
                            "      <td>0.0</td>\n",
                            "      <td>59</td>\n",
                            "      <td>22</td>\n",
                            "      <td>13</td>\n",
                            "      <td>6</td>\n",
                            "      <td>5.592778</td>\n",
                            "    </tr>\n",
                            "    <tr>\n",
                            "      <th>2</th>\n",
                            "      <td>45000.0</td>\n",
                            "      <td>1</td>\n",
                            "      <td>2013</td>\n",
                            "      <td>0.0</td>\n",
                            "      <td>44</td>\n",
                            "      <td>22</td>\n",
                            "      <td>13</td>\n",
                            "      <td>6</td>\n",
                            "      <td>1.313611</td>\n",
                            "    </tr>\n",
                            "    <tr>\n",
                            "      <th>3</th>\n",
                            "      <td>5000.0</td>\n",
                            "      <td>3</td>\n",
                            "      <td>2012</td>\n",
                            "      <td>0.0</td>\n",
                            "      <td>29</td>\n",
                            "      <td>22</td>\n",
                            "      <td>13</td>\n",
                            "      <td>10</td>\n",
                            "      <td>0.635000</td>\n",
                            "    </tr>\n",
                            "    <tr>\n",
                            "      <th>4</th>\n",
                            "      <td>19500.0</td>\n",
                            "      <td>7</td>\n",
                            "      <td>2015</td>\n",
                            "      <td>0.0</td>\n",
                            "      <td>55</td>\n",
                            "      <td>22</td>\n",
                            "      <td>13</td>\n",
                            "      <td>6</td>\n",
                            "      <td>16.661389</td>\n",
                            "    </tr>\n",
                            "  </tbody>\n",
                            "</table>\n",
                            "</div>"
                        ]
                    },
                    "metadata": {},
                    "execution_count": 134
                }
            ],
            "metadata": {}
        },
        {
            "cell_type": "code",
            "execution_count": 135,
            "source": [
                "baseline_index = filtered['name']\n",
                "baseline = baseline.join(baseline_index).set_index('name')\n",
                "baseline.head()"
            ],
            "outputs": [
                {
                    "output_type": "execute_result",
                    "data": {
                        "text/plain": [
                            "                                                       goal  month  year  \\\n",
                            "name                                                                       \n",
                            "The Songs of Adelaide & Abullah                      1000.0      8  2015   \n",
                            "Greeting From Earth: ZGAC Arts Capsule For ET       30000.0      9  2017   \n",
                            "Where is Hank?                                      45000.0      1  2013   \n",
                            "ToshiCapital Rekordz Needs Help to Complete Album    5000.0      3  2012   \n",
                            "Community Film Project: The Art of Neighborhood...  19500.0      7  2015   \n",
                            "\n",
                            "                                                    success  duration  \\\n",
                            "name                                                                    \n",
                            "The Songs of Adelaide & Abullah                         0.0        58   \n",
                            "Greeting From Earth: ZGAC Arts Capsule For ET           0.0        59   \n",
                            "Where is Hank?                                          0.0        44   \n",
                            "ToshiCapital Rekordz Needs Help to Complete Album       0.0        29   \n",
                            "Community Film Project: The Art of Neighborhood...      0.0        55   \n",
                            "\n",
                            "                                                    country  currency  \\\n",
                            "name                                                                    \n",
                            "The Songs of Adelaide & Abullah                           9         5   \n",
                            "Greeting From Earth: ZGAC Arts Capsule For ET            22        13   \n",
                            "Where is Hank?                                           22        13   \n",
                            "ToshiCapital Rekordz Needs Help to Complete Album        22        13   \n",
                            "Community Film Project: The Art of Neighborhood...       22        13   \n",
                            "\n",
                            "                                                    main_category  \\\n",
                            "name                                                                \n",
                            "The Songs of Adelaide & Abullah                                12   \n",
                            "Greeting From Earth: ZGAC Arts Capsule For ET                   6   \n",
                            "Where is Hank?                                                  6   \n",
                            "ToshiCapital Rekordz Needs Help to Complete Album              10   \n",
                            "Community Film Project: The Art of Neighborhood...              6   \n",
                            "\n",
                            "                                                    time_since_last_project  \n",
                            "name                                                                         \n",
                            "The Songs of Adelaide & Abullah                                   18.606111  \n",
                            "Greeting From Earth: ZGAC Arts Capsule For ET                      5.592778  \n",
                            "Where is Hank?                                                     1.313611  \n",
                            "ToshiCapital Rekordz Needs Help to Complete Album                  0.635000  \n",
                            "Community Film Project: The Art of Neighborhood...                16.661389  "
                        ],
                        "text/html": [
                            "<div>\n",
                            "<style scoped>\n",
                            "    .dataframe tbody tr th:only-of-type {\n",
                            "        vertical-align: middle;\n",
                            "    }\n",
                            "\n",
                            "    .dataframe tbody tr th {\n",
                            "        vertical-align: top;\n",
                            "    }\n",
                            "\n",
                            "    .dataframe thead th {\n",
                            "        text-align: right;\n",
                            "    }\n",
                            "</style>\n",
                            "<table border=\"1\" class=\"dataframe\">\n",
                            "  <thead>\n",
                            "    <tr style=\"text-align: right;\">\n",
                            "      <th></th>\n",
                            "      <th>goal</th>\n",
                            "      <th>month</th>\n",
                            "      <th>year</th>\n",
                            "      <th>success</th>\n",
                            "      <th>duration</th>\n",
                            "      <th>country</th>\n",
                            "      <th>currency</th>\n",
                            "      <th>main_category</th>\n",
                            "      <th>time_since_last_project</th>\n",
                            "    </tr>\n",
                            "    <tr>\n",
                            "      <th>name</th>\n",
                            "      <th></th>\n",
                            "      <th></th>\n",
                            "      <th></th>\n",
                            "      <th></th>\n",
                            "      <th></th>\n",
                            "      <th></th>\n",
                            "      <th></th>\n",
                            "      <th></th>\n",
                            "      <th></th>\n",
                            "    </tr>\n",
                            "  </thead>\n",
                            "  <tbody>\n",
                            "    <tr>\n",
                            "      <th>The Songs of Adelaide &amp; Abullah</th>\n",
                            "      <td>1000.0</td>\n",
                            "      <td>8</td>\n",
                            "      <td>2015</td>\n",
                            "      <td>0.0</td>\n",
                            "      <td>58</td>\n",
                            "      <td>9</td>\n",
                            "      <td>5</td>\n",
                            "      <td>12</td>\n",
                            "      <td>18.606111</td>\n",
                            "    </tr>\n",
                            "    <tr>\n",
                            "      <th>Greeting From Earth: ZGAC Arts Capsule For ET</th>\n",
                            "      <td>30000.0</td>\n",
                            "      <td>9</td>\n",
                            "      <td>2017</td>\n",
                            "      <td>0.0</td>\n",
                            "      <td>59</td>\n",
                            "      <td>22</td>\n",
                            "      <td>13</td>\n",
                            "      <td>6</td>\n",
                            "      <td>5.592778</td>\n",
                            "    </tr>\n",
                            "    <tr>\n",
                            "      <th>Where is Hank?</th>\n",
                            "      <td>45000.0</td>\n",
                            "      <td>1</td>\n",
                            "      <td>2013</td>\n",
                            "      <td>0.0</td>\n",
                            "      <td>44</td>\n",
                            "      <td>22</td>\n",
                            "      <td>13</td>\n",
                            "      <td>6</td>\n",
                            "      <td>1.313611</td>\n",
                            "    </tr>\n",
                            "    <tr>\n",
                            "      <th>ToshiCapital Rekordz Needs Help to Complete Album</th>\n",
                            "      <td>5000.0</td>\n",
                            "      <td>3</td>\n",
                            "      <td>2012</td>\n",
                            "      <td>0.0</td>\n",
                            "      <td>29</td>\n",
                            "      <td>22</td>\n",
                            "      <td>13</td>\n",
                            "      <td>10</td>\n",
                            "      <td>0.635000</td>\n",
                            "    </tr>\n",
                            "    <tr>\n",
                            "      <th>Community Film Project: The Art of Neighborhood Filmmaking</th>\n",
                            "      <td>19500.0</td>\n",
                            "      <td>7</td>\n",
                            "      <td>2015</td>\n",
                            "      <td>0.0</td>\n",
                            "      <td>55</td>\n",
                            "      <td>22</td>\n",
                            "      <td>13</td>\n",
                            "      <td>6</td>\n",
                            "      <td>16.661389</td>\n",
                            "    </tr>\n",
                            "  </tbody>\n",
                            "</table>\n",
                            "</div>"
                        ]
                    },
                    "metadata": {},
                    "execution_count": 135
                }
            ],
            "metadata": {}
        },
        {
            "cell_type": "code",
            "execution_count": 115,
            "source": [
                "#creates a csv\n",
                "baseline.to_csv(r'ks-projects-201801.csv')"
            ],
            "outputs": [],
            "metadata": {}
        },
        {
            "cell_type": "code",
            "execution_count": null,
            "source": [
                "baseline.corr()"
            ],
            "outputs": [
                {
                    "output_type": "execute_result",
                    "data": {
                        "text/plain": [
                            "                             goal      hour       day     month      year  \\\n",
                            "goal                     1.000000  0.001303 -0.003114  0.000797  0.016796   \n",
                            "hour                     0.001303  1.000000  0.003963  0.005598  0.046346   \n",
                            "day                     -0.003114  0.003963  1.000000 -0.033122 -0.002620   \n",
                            "month                    0.000797  0.005598 -0.033122  1.000000 -0.092671   \n",
                            "year                     0.016796  0.046346 -0.002620 -0.092671  1.000000   \n",
                            "success                 -0.023244 -0.001790 -0.014059 -0.017650 -0.121966   \n",
                            "launch_season            0.002250 -0.004378 -0.012414 -0.674344  0.051815   \n",
                            "duration_days            0.023823 -0.018013 -0.002622 -0.017667 -0.168116   \n",
                            "main_category            0.004119 -0.003769 -0.000671  0.000834 -0.016819   \n",
                            "time_since_last_project -0.000751 -0.002938 -0.001595 -0.003996 -0.054128   \n",
                            "\n",
                            "                          success  launch_season  duration_days  \\\n",
                            "goal                    -0.023244       0.002250       0.023823   \n",
                            "hour                    -0.001790      -0.004378      -0.018013   \n",
                            "day                     -0.014059      -0.012414      -0.002622   \n",
                            "month                   -0.017650      -0.674344      -0.017667   \n",
                            "year                    -0.121966       0.051815      -0.168116   \n",
                            "success                  1.000000       0.002893      -0.133224   \n",
                            "launch_season            0.002893       1.000000       0.016456   \n",
                            "duration_days           -0.133224       0.016456       1.000000   \n",
                            "main_category           -0.034544      -0.001865       0.039548   \n",
                            "time_since_last_project  0.023932      -0.000649       0.014196   \n",
                            "\n",
                            "                         main_category  time_since_last_project  \n",
                            "goal                          0.004119                -0.000751  \n",
                            "hour                         -0.003769                -0.002938  \n",
                            "day                          -0.000671                -0.001595  \n",
                            "month                         0.000834                -0.003996  \n",
                            "year                         -0.016819                -0.054128  \n",
                            "success                      -0.034544                 0.023932  \n",
                            "launch_season                -0.001865                -0.000649  \n",
                            "duration_days                 0.039548                 0.014196  \n",
                            "main_category                 1.000000                -0.001144  \n",
                            "time_since_last_project      -0.001144                 1.000000  "
                        ],
                        "text/html": [
                            "<div>\n",
                            "<style scoped>\n",
                            "    .dataframe tbody tr th:only-of-type {\n",
                            "        vertical-align: middle;\n",
                            "    }\n",
                            "\n",
                            "    .dataframe tbody tr th {\n",
                            "        vertical-align: top;\n",
                            "    }\n",
                            "\n",
                            "    .dataframe thead th {\n",
                            "        text-align: right;\n",
                            "    }\n",
                            "</style>\n",
                            "<table border=\"1\" class=\"dataframe\">\n",
                            "  <thead>\n",
                            "    <tr style=\"text-align: right;\">\n",
                            "      <th></th>\n",
                            "      <th>goal</th>\n",
                            "      <th>hour</th>\n",
                            "      <th>day</th>\n",
                            "      <th>month</th>\n",
                            "      <th>year</th>\n",
                            "      <th>success</th>\n",
                            "      <th>launch_season</th>\n",
                            "      <th>duration_days</th>\n",
                            "      <th>main_category</th>\n",
                            "      <th>time_since_last_project</th>\n",
                            "    </tr>\n",
                            "  </thead>\n",
                            "  <tbody>\n",
                            "    <tr>\n",
                            "      <th>goal</th>\n",
                            "      <td>1.000000</td>\n",
                            "      <td>0.001303</td>\n",
                            "      <td>-0.003114</td>\n",
                            "      <td>0.000797</td>\n",
                            "      <td>0.016796</td>\n",
                            "      <td>-0.023244</td>\n",
                            "      <td>0.002250</td>\n",
                            "      <td>0.023823</td>\n",
                            "      <td>0.004119</td>\n",
                            "      <td>-0.000751</td>\n",
                            "    </tr>\n",
                            "    <tr>\n",
                            "      <th>hour</th>\n",
                            "      <td>0.001303</td>\n",
                            "      <td>1.000000</td>\n",
                            "      <td>0.003963</td>\n",
                            "      <td>0.005598</td>\n",
                            "      <td>0.046346</td>\n",
                            "      <td>-0.001790</td>\n",
                            "      <td>-0.004378</td>\n",
                            "      <td>-0.018013</td>\n",
                            "      <td>-0.003769</td>\n",
                            "      <td>-0.002938</td>\n",
                            "    </tr>\n",
                            "    <tr>\n",
                            "      <th>day</th>\n",
                            "      <td>-0.003114</td>\n",
                            "      <td>0.003963</td>\n",
                            "      <td>1.000000</td>\n",
                            "      <td>-0.033122</td>\n",
                            "      <td>-0.002620</td>\n",
                            "      <td>-0.014059</td>\n",
                            "      <td>-0.012414</td>\n",
                            "      <td>-0.002622</td>\n",
                            "      <td>-0.000671</td>\n",
                            "      <td>-0.001595</td>\n",
                            "    </tr>\n",
                            "    <tr>\n",
                            "      <th>month</th>\n",
                            "      <td>0.000797</td>\n",
                            "      <td>0.005598</td>\n",
                            "      <td>-0.033122</td>\n",
                            "      <td>1.000000</td>\n",
                            "      <td>-0.092671</td>\n",
                            "      <td>-0.017650</td>\n",
                            "      <td>-0.674344</td>\n",
                            "      <td>-0.017667</td>\n",
                            "      <td>0.000834</td>\n",
                            "      <td>-0.003996</td>\n",
                            "    </tr>\n",
                            "    <tr>\n",
                            "      <th>year</th>\n",
                            "      <td>0.016796</td>\n",
                            "      <td>0.046346</td>\n",
                            "      <td>-0.002620</td>\n",
                            "      <td>-0.092671</td>\n",
                            "      <td>1.000000</td>\n",
                            "      <td>-0.121966</td>\n",
                            "      <td>0.051815</td>\n",
                            "      <td>-0.168116</td>\n",
                            "      <td>-0.016819</td>\n",
                            "      <td>-0.054128</td>\n",
                            "    </tr>\n",
                            "    <tr>\n",
                            "      <th>success</th>\n",
                            "      <td>-0.023244</td>\n",
                            "      <td>-0.001790</td>\n",
                            "      <td>-0.014059</td>\n",
                            "      <td>-0.017650</td>\n",
                            "      <td>-0.121966</td>\n",
                            "      <td>1.000000</td>\n",
                            "      <td>0.002893</td>\n",
                            "      <td>-0.133224</td>\n",
                            "      <td>-0.034544</td>\n",
                            "      <td>0.023932</td>\n",
                            "    </tr>\n",
                            "    <tr>\n",
                            "      <th>launch_season</th>\n",
                            "      <td>0.002250</td>\n",
                            "      <td>-0.004378</td>\n",
                            "      <td>-0.012414</td>\n",
                            "      <td>-0.674344</td>\n",
                            "      <td>0.051815</td>\n",
                            "      <td>0.002893</td>\n",
                            "      <td>1.000000</td>\n",
                            "      <td>0.016456</td>\n",
                            "      <td>-0.001865</td>\n",
                            "      <td>-0.000649</td>\n",
                            "    </tr>\n",
                            "    <tr>\n",
                            "      <th>duration_days</th>\n",
                            "      <td>0.023823</td>\n",
                            "      <td>-0.018013</td>\n",
                            "      <td>-0.002622</td>\n",
                            "      <td>-0.017667</td>\n",
                            "      <td>-0.168116</td>\n",
                            "      <td>-0.133224</td>\n",
                            "      <td>0.016456</td>\n",
                            "      <td>1.000000</td>\n",
                            "      <td>0.039548</td>\n",
                            "      <td>0.014196</td>\n",
                            "    </tr>\n",
                            "    <tr>\n",
                            "      <th>main_category</th>\n",
                            "      <td>0.004119</td>\n",
                            "      <td>-0.003769</td>\n",
                            "      <td>-0.000671</td>\n",
                            "      <td>0.000834</td>\n",
                            "      <td>-0.016819</td>\n",
                            "      <td>-0.034544</td>\n",
                            "      <td>-0.001865</td>\n",
                            "      <td>0.039548</td>\n",
                            "      <td>1.000000</td>\n",
                            "      <td>-0.001144</td>\n",
                            "    </tr>\n",
                            "    <tr>\n",
                            "      <th>time_since_last_project</th>\n",
                            "      <td>-0.000751</td>\n",
                            "      <td>-0.002938</td>\n",
                            "      <td>-0.001595</td>\n",
                            "      <td>-0.003996</td>\n",
                            "      <td>-0.054128</td>\n",
                            "      <td>0.023932</td>\n",
                            "      <td>-0.000649</td>\n",
                            "      <td>0.014196</td>\n",
                            "      <td>-0.001144</td>\n",
                            "      <td>1.000000</td>\n",
                            "    </tr>\n",
                            "  </tbody>\n",
                            "</table>\n",
                            "</div>"
                        ]
                    },
                    "metadata": {},
                    "execution_count": 103
                }
            ],
            "metadata": {}
        },
        {
            "cell_type": "code",
            "execution_count": 136,
            "source": [
                "# creating target and feature variables\n",
                "target = 'success'\n",
                "X = baseline.drop(columns=target)\n",
                "y = baseline[target]"
            ],
            "outputs": [],
            "metadata": {}
        },
        {
            "cell_type": "code",
            "execution_count": 137,
            "source": [
                "#splitting data into training and test data\n",
                "X_train, X_val, y_train, y_val = train_test_split(X,y, test_size = .2, random_state = 42)"
            ],
            "outputs": [],
            "metadata": {}
        },
        {
            "cell_type": "code",
            "execution_count": 118,
            "source": [
                "y_train.value_counts()"
            ],
            "outputs": [
                {
                    "output_type": "execute_result",
                    "data": {
                        "text/plain": [
                            "0.0    187635\n",
                            "1.0     73020\n",
                            "Name: success, dtype: int64"
                        ]
                    },
                    "metadata": {},
                    "execution_count": 118
                }
            ],
            "metadata": {}
        },
        {
            "cell_type": "code",
            "execution_count": 38,
            "source": [
                "y_val.value_counts()"
            ],
            "outputs": [
                {
                    "output_type": "execute_result",
                    "data": {
                        "text/plain": [
                            "0.0    46995\n",
                            "1.0    18169\n",
                            "Name: success, dtype: int64"
                        ]
                    },
                    "metadata": {},
                    "execution_count": 38
                }
            ],
            "metadata": {}
        },
        {
            "cell_type": "code",
            "execution_count": 138,
            "source": [
                "baseline_acc = y_train.value_counts(normalize=True)\n",
                "print(baseline_acc)\n"
            ],
            "outputs": [
                {
                    "output_type": "stream",
                    "name": "stdout",
                    "text": [
                        "0.0    0.71986\n",
                        "1.0    0.28014\n",
                        "Name: success, dtype: float64\n"
                    ]
                }
            ],
            "metadata": {}
        },
        {
            "cell_type": "code",
            "execution_count": 120,
            "source": [
                "#creating and fitting model1 = XGBoost\n",
                "model = XGBClassifier(label_encoder = False, random_state=42, n_estimators=50, n_jobs=-1, max_depth=15)\n",
                "model.fit(X_train, y_train)\n"
            ],
            "outputs": [
                {
                    "output_type": "stream",
                    "name": "stderr",
                    "text": [
                        "/Library/Frameworks/Python.framework/Versions/3.9/lib/python3.9/site-packages/xgboost/sklearn.py:1204: UserWarning: The use of label encoder in XGBClassifier is deprecated and will be removed in a future release. To remove this warning, do the following: 1) Pass option use_label_encoder=False when constructing XGBClassifier object; and 2) Encode your labels (y) as integers starting with 0, i.e. 0, 1, 2, ..., [num_class - 1].\n",
                        "  warnings.warn(label_encoder_deprecation_msg, UserWarning)\n"
                    ]
                },
                {
                    "output_type": "stream",
                    "name": "stdout",
                    "text": [
                        "[15:43:26] WARNING: /Users/ad/xgboost/python-package/build/temp.macosx-10.9-x86_64-3.9/xgboost/src/learner.cc:576: \n",
                        "Parameters: { \"label_encoder\" } might not be used.\n",
                        "\n",
                        "  This may not be accurate due to some parameters are only used in language bindings but\n",
                        "  passed down to XGBoost core.  Or some parameters are not used but slip through this\n",
                        "  verification. Please open an issue if you find above cases.\n",
                        "\n",
                        "\n",
                        "[15:43:26] WARNING: /Users/ad/xgboost/python-package/build/temp.macosx-10.9-x86_64-3.9/xgboost/src/learner.cc:1115: Starting in XGBoost 1.3.0, the default evaluation metric used with the objective 'binary:logistic' was changed from 'error' to 'logloss'. Explicitly set eval_metric if you'd like to restore the old behavior.\n"
                    ]
                },
                {
                    "output_type": "execute_result",
                    "data": {
                        "text/plain": [
                            "XGBClassifier(base_score=0.5, booster='gbtree', colsample_bylevel=1,\n",
                            "              colsample_bynode=1, colsample_bytree=1, enable_categorical=False,\n",
                            "              gamma=0, gpu_id=-1, importance_type=None,\n",
                            "              interaction_constraints='', label_encoder=False,\n",
                            "              learning_rate=0.300000012, max_delta_step=0, max_depth=15,\n",
                            "              min_child_weight=1, missing=nan, monotone_constraints='()',\n",
                            "              n_estimators=50, n_jobs=-1, num_parallel_tree=1, predictor='auto',\n",
                            "              random_state=42, reg_alpha=0, reg_lambda=1, scale_pos_weight=1,\n",
                            "              subsample=1, tree_method='exact', validate_parameters=1,\n",
                            "              verbosity=None)"
                        ]
                    },
                    "metadata": {},
                    "execution_count": 120
                }
            ],
            "metadata": {}
        },
        {
            "cell_type": "code",
            "execution_count": null,
            "source": [
                "#RandomizedSearchCV\n",
                "#instead of choosing the hyperparameters manually, this helps you choose it \n",
                "#skip this as it takes a long while to run, and it has an effect on the training data (88%) but not validation data (68%) \n",
                "param_distributions = {\n",
                "    'randomforestclassifier__criterion':['gini','entropy'],\n",
                "    'randomforestclassifier__n_estimators':range(1,320),\n",
                "}\n",
                "search = RandomizedSearchCV(model,\n",
                "                            param_distributions=param_distributions,\n",
                "                            n_iter=50,\n",
                "                            cv=3,\n",
                "                            scoring='accuracy',\n",
                "                            verbose=10,\n",
                "                            return_train_score=True,\n",
                "                            random_state = 58,\n",
                "                            \n",
                "                            n_jobs=-1\n",
                "                            )\n",
                "search.fit(X_train,y_train);\n",
                "\n",
                "#model.fit(X_train, y_train);"
            ],
            "outputs": [
                {
                    "output_type": "stream",
                    "name": "stdout",
                    "text": [
                        "Fitting 3 folds for each of 50 candidates, totalling 150 fits\n"
                    ]
                },
                {
                    "output_type": "error",
                    "ename": "KeyboardInterrupt",
                    "evalue": "",
                    "traceback": [
                        "\u001b[0;31m---------------------------------------------------------------------------\u001b[0m",
                        "\u001b[0;31mKeyboardInterrupt\u001b[0m                         Traceback (most recent call last)",
                        "\u001b[0;32m/var/folders/__/zlj60b4x2dndz0rl_7m8sl1c0000gp/T/ipykernel_15462/3322864868.py\u001b[0m in \u001b[0;36m<module>\u001b[0;34m\u001b[0m\n\u001b[1;32m     16\u001b[0m                             \u001b[0mn_jobs\u001b[0m\u001b[0;34m=\u001b[0m\u001b[0;34m-\u001b[0m\u001b[0;36m1\u001b[0m\u001b[0;34m\u001b[0m\u001b[0;34m\u001b[0m\u001b[0m\n\u001b[1;32m     17\u001b[0m                             )\n\u001b[0;32m---> 18\u001b[0;31m \u001b[0msearch\u001b[0m\u001b[0;34m.\u001b[0m\u001b[0mfit\u001b[0m\u001b[0;34m(\u001b[0m\u001b[0mX_train\u001b[0m\u001b[0;34m,\u001b[0m\u001b[0my_train\u001b[0m\u001b[0;34m)\u001b[0m\u001b[0;34m;\u001b[0m\u001b[0;34m\u001b[0m\u001b[0;34m\u001b[0m\u001b[0m\n\u001b[0m\u001b[1;32m     19\u001b[0m \u001b[0;34m\u001b[0m\u001b[0m\n\u001b[1;32m     20\u001b[0m \u001b[0;31m#model.fit(X_train, y_train);\u001b[0m\u001b[0;34m\u001b[0m\u001b[0;34m\u001b[0m\u001b[0;34m\u001b[0m\u001b[0m\n",
                        "\u001b[0;32m/Library/Frameworks/Python.framework/Versions/3.9/lib/python3.9/site-packages/sklearn/utils/validation.py\u001b[0m in \u001b[0;36minner_f\u001b[0;34m(*args, **kwargs)\u001b[0m\n\u001b[1;32m     61\u001b[0m             \u001b[0mextra_args\u001b[0m \u001b[0;34m=\u001b[0m \u001b[0mlen\u001b[0m\u001b[0;34m(\u001b[0m\u001b[0margs\u001b[0m\u001b[0;34m)\u001b[0m \u001b[0;34m-\u001b[0m \u001b[0mlen\u001b[0m\u001b[0;34m(\u001b[0m\u001b[0mall_args\u001b[0m\u001b[0;34m)\u001b[0m\u001b[0;34m\u001b[0m\u001b[0;34m\u001b[0m\u001b[0m\n\u001b[1;32m     62\u001b[0m             \u001b[0;32mif\u001b[0m \u001b[0mextra_args\u001b[0m \u001b[0;34m<=\u001b[0m \u001b[0;36m0\u001b[0m\u001b[0;34m:\u001b[0m\u001b[0;34m\u001b[0m\u001b[0;34m\u001b[0m\u001b[0m\n\u001b[0;32m---> 63\u001b[0;31m                 \u001b[0;32mreturn\u001b[0m \u001b[0mf\u001b[0m\u001b[0;34m(\u001b[0m\u001b[0;34m*\u001b[0m\u001b[0margs\u001b[0m\u001b[0;34m,\u001b[0m \u001b[0;34m**\u001b[0m\u001b[0mkwargs\u001b[0m\u001b[0;34m)\u001b[0m\u001b[0;34m\u001b[0m\u001b[0;34m\u001b[0m\u001b[0m\n\u001b[0m\u001b[1;32m     64\u001b[0m \u001b[0;34m\u001b[0m\u001b[0m\n\u001b[1;32m     65\u001b[0m             \u001b[0;31m# extra_args > 0\u001b[0m\u001b[0;34m\u001b[0m\u001b[0;34m\u001b[0m\u001b[0;34m\u001b[0m\u001b[0m\n",
                        "\u001b[0;32m/Library/Frameworks/Python.framework/Versions/3.9/lib/python3.9/site-packages/sklearn/model_selection/_search.py\u001b[0m in \u001b[0;36mfit\u001b[0;34m(self, X, y, groups, **fit_params)\u001b[0m\n\u001b[1;32m    839\u001b[0m                 \u001b[0;32mreturn\u001b[0m \u001b[0mresults\u001b[0m\u001b[0;34m\u001b[0m\u001b[0;34m\u001b[0m\u001b[0m\n\u001b[1;32m    840\u001b[0m \u001b[0;34m\u001b[0m\u001b[0m\n\u001b[0;32m--> 841\u001b[0;31m             \u001b[0mself\u001b[0m\u001b[0;34m.\u001b[0m\u001b[0m_run_search\u001b[0m\u001b[0;34m(\u001b[0m\u001b[0mevaluate_candidates\u001b[0m\u001b[0;34m)\u001b[0m\u001b[0;34m\u001b[0m\u001b[0;34m\u001b[0m\u001b[0m\n\u001b[0m\u001b[1;32m    842\u001b[0m \u001b[0;34m\u001b[0m\u001b[0m\n\u001b[1;32m    843\u001b[0m             \u001b[0;31m# multimetric is determined here because in the case of a callable\u001b[0m\u001b[0;34m\u001b[0m\u001b[0;34m\u001b[0m\u001b[0;34m\u001b[0m\u001b[0m\n",
                        "\u001b[0;32m/Library/Frameworks/Python.framework/Versions/3.9/lib/python3.9/site-packages/sklearn/model_selection/_search.py\u001b[0m in \u001b[0;36m_run_search\u001b[0;34m(self, evaluate_candidates)\u001b[0m\n\u001b[1;32m   1631\u001b[0m     \u001b[0;32mdef\u001b[0m \u001b[0m_run_search\u001b[0m\u001b[0;34m(\u001b[0m\u001b[0mself\u001b[0m\u001b[0;34m,\u001b[0m \u001b[0mevaluate_candidates\u001b[0m\u001b[0;34m)\u001b[0m\u001b[0;34m:\u001b[0m\u001b[0;34m\u001b[0m\u001b[0;34m\u001b[0m\u001b[0m\n\u001b[1;32m   1632\u001b[0m         \u001b[0;34m\"\"\"Search n_iter candidates from param_distributions\"\"\"\u001b[0m\u001b[0;34m\u001b[0m\u001b[0;34m\u001b[0m\u001b[0m\n\u001b[0;32m-> 1633\u001b[0;31m         evaluate_candidates(ParameterSampler(\n\u001b[0m\u001b[1;32m   1634\u001b[0m             \u001b[0mself\u001b[0m\u001b[0;34m.\u001b[0m\u001b[0mparam_distributions\u001b[0m\u001b[0;34m,\u001b[0m \u001b[0mself\u001b[0m\u001b[0;34m.\u001b[0m\u001b[0mn_iter\u001b[0m\u001b[0;34m,\u001b[0m\u001b[0;34m\u001b[0m\u001b[0;34m\u001b[0m\u001b[0m\n\u001b[1;32m   1635\u001b[0m             random_state=self.random_state))\n",
                        "\u001b[0;32m/Library/Frameworks/Python.framework/Versions/3.9/lib/python3.9/site-packages/sklearn/model_selection/_search.py\u001b[0m in \u001b[0;36mevaluate_candidates\u001b[0;34m(candidate_params, cv, more_results)\u001b[0m\n\u001b[1;32m    793\u001b[0m                               n_splits, n_candidates, n_candidates * n_splits))\n\u001b[1;32m    794\u001b[0m \u001b[0;34m\u001b[0m\u001b[0m\n\u001b[0;32m--> 795\u001b[0;31m                 out = parallel(delayed(_fit_and_score)(clone(base_estimator),\n\u001b[0m\u001b[1;32m    796\u001b[0m                                                        \u001b[0mX\u001b[0m\u001b[0;34m,\u001b[0m \u001b[0my\u001b[0m\u001b[0;34m,\u001b[0m\u001b[0;34m\u001b[0m\u001b[0;34m\u001b[0m\u001b[0m\n\u001b[1;32m    797\u001b[0m                                                        \u001b[0mtrain\u001b[0m\u001b[0;34m=\u001b[0m\u001b[0mtrain\u001b[0m\u001b[0;34m,\u001b[0m \u001b[0mtest\u001b[0m\u001b[0;34m=\u001b[0m\u001b[0mtest\u001b[0m\u001b[0;34m,\u001b[0m\u001b[0;34m\u001b[0m\u001b[0;34m\u001b[0m\u001b[0m\n",
                        "\u001b[0;32m/Library/Frameworks/Python.framework/Versions/3.9/lib/python3.9/site-packages/joblib/parallel.py\u001b[0m in \u001b[0;36m__call__\u001b[0;34m(self, iterable)\u001b[0m\n\u001b[1;32m   1052\u001b[0m \u001b[0;34m\u001b[0m\u001b[0m\n\u001b[1;32m   1053\u001b[0m             \u001b[0;32mwith\u001b[0m \u001b[0mself\u001b[0m\u001b[0;34m.\u001b[0m\u001b[0m_backend\u001b[0m\u001b[0;34m.\u001b[0m\u001b[0mretrieval_context\u001b[0m\u001b[0;34m(\u001b[0m\u001b[0;34m)\u001b[0m\u001b[0;34m:\u001b[0m\u001b[0;34m\u001b[0m\u001b[0;34m\u001b[0m\u001b[0m\n\u001b[0;32m-> 1054\u001b[0;31m                 \u001b[0mself\u001b[0m\u001b[0;34m.\u001b[0m\u001b[0mretrieve\u001b[0m\u001b[0;34m(\u001b[0m\u001b[0;34m)\u001b[0m\u001b[0;34m\u001b[0m\u001b[0;34m\u001b[0m\u001b[0m\n\u001b[0m\u001b[1;32m   1055\u001b[0m             \u001b[0;31m# Make sure that we get a last message telling us we are done\u001b[0m\u001b[0;34m\u001b[0m\u001b[0;34m\u001b[0m\u001b[0;34m\u001b[0m\u001b[0m\n\u001b[1;32m   1056\u001b[0m             \u001b[0melapsed_time\u001b[0m \u001b[0;34m=\u001b[0m \u001b[0mtime\u001b[0m\u001b[0;34m.\u001b[0m\u001b[0mtime\u001b[0m\u001b[0;34m(\u001b[0m\u001b[0;34m)\u001b[0m \u001b[0;34m-\u001b[0m \u001b[0mself\u001b[0m\u001b[0;34m.\u001b[0m\u001b[0m_start_time\u001b[0m\u001b[0;34m\u001b[0m\u001b[0;34m\u001b[0m\u001b[0m\n",
                        "\u001b[0;32m/Library/Frameworks/Python.framework/Versions/3.9/lib/python3.9/site-packages/joblib/parallel.py\u001b[0m in \u001b[0;36mretrieve\u001b[0;34m(self)\u001b[0m\n\u001b[1;32m    931\u001b[0m             \u001b[0;32mtry\u001b[0m\u001b[0;34m:\u001b[0m\u001b[0;34m\u001b[0m\u001b[0;34m\u001b[0m\u001b[0m\n\u001b[1;32m    932\u001b[0m                 \u001b[0;32mif\u001b[0m \u001b[0mgetattr\u001b[0m\u001b[0;34m(\u001b[0m\u001b[0mself\u001b[0m\u001b[0;34m.\u001b[0m\u001b[0m_backend\u001b[0m\u001b[0;34m,\u001b[0m \u001b[0;34m'supports_timeout'\u001b[0m\u001b[0;34m,\u001b[0m \u001b[0;32mFalse\u001b[0m\u001b[0;34m)\u001b[0m\u001b[0;34m:\u001b[0m\u001b[0;34m\u001b[0m\u001b[0;34m\u001b[0m\u001b[0m\n\u001b[0;32m--> 933\u001b[0;31m                     \u001b[0mself\u001b[0m\u001b[0;34m.\u001b[0m\u001b[0m_output\u001b[0m\u001b[0;34m.\u001b[0m\u001b[0mextend\u001b[0m\u001b[0;34m(\u001b[0m\u001b[0mjob\u001b[0m\u001b[0;34m.\u001b[0m\u001b[0mget\u001b[0m\u001b[0;34m(\u001b[0m\u001b[0mtimeout\u001b[0m\u001b[0;34m=\u001b[0m\u001b[0mself\u001b[0m\u001b[0;34m.\u001b[0m\u001b[0mtimeout\u001b[0m\u001b[0;34m)\u001b[0m\u001b[0;34m)\u001b[0m\u001b[0;34m\u001b[0m\u001b[0;34m\u001b[0m\u001b[0m\n\u001b[0m\u001b[1;32m    934\u001b[0m                 \u001b[0;32melse\u001b[0m\u001b[0;34m:\u001b[0m\u001b[0;34m\u001b[0m\u001b[0;34m\u001b[0m\u001b[0m\n\u001b[1;32m    935\u001b[0m                     \u001b[0mself\u001b[0m\u001b[0;34m.\u001b[0m\u001b[0m_output\u001b[0m\u001b[0;34m.\u001b[0m\u001b[0mextend\u001b[0m\u001b[0;34m(\u001b[0m\u001b[0mjob\u001b[0m\u001b[0;34m.\u001b[0m\u001b[0mget\u001b[0m\u001b[0;34m(\u001b[0m\u001b[0;34m)\u001b[0m\u001b[0;34m)\u001b[0m\u001b[0;34m\u001b[0m\u001b[0;34m\u001b[0m\u001b[0m\n",
                        "\u001b[0;32m/Library/Frameworks/Python.framework/Versions/3.9/lib/python3.9/site-packages/joblib/_parallel_backends.py\u001b[0m in \u001b[0;36mwrap_future_result\u001b[0;34m(future, timeout)\u001b[0m\n\u001b[1;32m    540\u001b[0m         AsyncResults.get from multiprocessing.\"\"\"\n\u001b[1;32m    541\u001b[0m         \u001b[0;32mtry\u001b[0m\u001b[0;34m:\u001b[0m\u001b[0;34m\u001b[0m\u001b[0;34m\u001b[0m\u001b[0m\n\u001b[0;32m--> 542\u001b[0;31m             \u001b[0;32mreturn\u001b[0m \u001b[0mfuture\u001b[0m\u001b[0;34m.\u001b[0m\u001b[0mresult\u001b[0m\u001b[0;34m(\u001b[0m\u001b[0mtimeout\u001b[0m\u001b[0;34m=\u001b[0m\u001b[0mtimeout\u001b[0m\u001b[0;34m)\u001b[0m\u001b[0;34m\u001b[0m\u001b[0;34m\u001b[0m\u001b[0m\n\u001b[0m\u001b[1;32m    543\u001b[0m         \u001b[0;32mexcept\u001b[0m \u001b[0mCfTimeoutError\u001b[0m \u001b[0;32mas\u001b[0m \u001b[0me\u001b[0m\u001b[0;34m:\u001b[0m\u001b[0;34m\u001b[0m\u001b[0;34m\u001b[0m\u001b[0m\n\u001b[1;32m    544\u001b[0m             \u001b[0;32mraise\u001b[0m \u001b[0mTimeoutError\u001b[0m \u001b[0;32mfrom\u001b[0m \u001b[0me\u001b[0m\u001b[0;34m\u001b[0m\u001b[0;34m\u001b[0m\u001b[0m\n",
                        "\u001b[0;32m/Library/Frameworks/Python.framework/Versions/3.9/lib/python3.9/concurrent/futures/_base.py\u001b[0m in \u001b[0;36mresult\u001b[0;34m(self, timeout)\u001b[0m\n\u001b[1;32m    438\u001b[0m                     \u001b[0;32mreturn\u001b[0m \u001b[0mself\u001b[0m\u001b[0;34m.\u001b[0m\u001b[0m__get_result\u001b[0m\u001b[0;34m(\u001b[0m\u001b[0;34m)\u001b[0m\u001b[0;34m\u001b[0m\u001b[0;34m\u001b[0m\u001b[0m\n\u001b[1;32m    439\u001b[0m \u001b[0;34m\u001b[0m\u001b[0m\n\u001b[0;32m--> 440\u001b[0;31m                 \u001b[0mself\u001b[0m\u001b[0;34m.\u001b[0m\u001b[0m_condition\u001b[0m\u001b[0;34m.\u001b[0m\u001b[0mwait\u001b[0m\u001b[0;34m(\u001b[0m\u001b[0mtimeout\u001b[0m\u001b[0;34m)\u001b[0m\u001b[0;34m\u001b[0m\u001b[0;34m\u001b[0m\u001b[0m\n\u001b[0m\u001b[1;32m    441\u001b[0m \u001b[0;34m\u001b[0m\u001b[0m\n\u001b[1;32m    442\u001b[0m                 \u001b[0;32mif\u001b[0m \u001b[0mself\u001b[0m\u001b[0;34m.\u001b[0m\u001b[0m_state\u001b[0m \u001b[0;32min\u001b[0m \u001b[0;34m[\u001b[0m\u001b[0mCANCELLED\u001b[0m\u001b[0;34m,\u001b[0m \u001b[0mCANCELLED_AND_NOTIFIED\u001b[0m\u001b[0;34m]\u001b[0m\u001b[0;34m:\u001b[0m\u001b[0;34m\u001b[0m\u001b[0;34m\u001b[0m\u001b[0m\n",
                        "\u001b[0;32m/Library/Frameworks/Python.framework/Versions/3.9/lib/python3.9/threading.py\u001b[0m in \u001b[0;36mwait\u001b[0;34m(self, timeout)\u001b[0m\n\u001b[1;32m    310\u001b[0m         \u001b[0;32mtry\u001b[0m\u001b[0;34m:\u001b[0m    \u001b[0;31m# restore state no matter what (e.g., KeyboardInterrupt)\u001b[0m\u001b[0;34m\u001b[0m\u001b[0;34m\u001b[0m\u001b[0m\n\u001b[1;32m    311\u001b[0m             \u001b[0;32mif\u001b[0m \u001b[0mtimeout\u001b[0m \u001b[0;32mis\u001b[0m \u001b[0;32mNone\u001b[0m\u001b[0;34m:\u001b[0m\u001b[0;34m\u001b[0m\u001b[0;34m\u001b[0m\u001b[0m\n\u001b[0;32m--> 312\u001b[0;31m                 \u001b[0mwaiter\u001b[0m\u001b[0;34m.\u001b[0m\u001b[0macquire\u001b[0m\u001b[0;34m(\u001b[0m\u001b[0;34m)\u001b[0m\u001b[0;34m\u001b[0m\u001b[0;34m\u001b[0m\u001b[0m\n\u001b[0m\u001b[1;32m    313\u001b[0m                 \u001b[0mgotit\u001b[0m \u001b[0;34m=\u001b[0m \u001b[0;32mTrue\u001b[0m\u001b[0;34m\u001b[0m\u001b[0;34m\u001b[0m\u001b[0m\n\u001b[1;32m    314\u001b[0m             \u001b[0;32melse\u001b[0m\u001b[0;34m:\u001b[0m\u001b[0;34m\u001b[0m\u001b[0;34m\u001b[0m\u001b[0m\n",
                        "\u001b[0;31mKeyboardInterrupt\u001b[0m: "
                    ]
                }
            ],
            "metadata": {}
        },
        {
            "cell_type": "code",
            "execution_count": 121,
            "source": [
                "training_accuracy = model.score(X_train, y_train)\n",
                "val_accuracy = model.score(X_val, y_val)\n",
                "print(training_accuracy, val_accuracy)"
            ],
            "outputs": [
                {
                    "output_type": "stream",
                    "name": "stdout",
                    "text": [
                        "0.9141393796397537 0.7627677858940519\n"
                    ]
                }
            ],
            "metadata": {}
        },
        {
            "cell_type": "code",
            "execution_count": 46,
            "source": [
                "# Get feature importances\n",
                "#rf = model.named_steps['randomforestclassifier']\n",
                "importances = pd.Series(model.feature_importances_, X_train.columns)\n",
                "\n",
                "# Plot feature importances\n",
                "%matplotlib inline\n",
                "import matplotlib.pyplot as plt\n",
                "\n",
                "n = 20\n",
                "plt.figure(figsize=(10,n/2))\n",
                "plt.title(f'Top {n} features')\n",
                "importances.sort_values()[-n:].plot.barh(color='grey');"
            ],
            "outputs": [
                {
                    "output_type": "display_data",
                    "data": {
                        "text/plain": [
                            "<Figure size 720x720 with 1 Axes>"
                        ],
                        "image/png": "[encoded data removed]"
                    },
                    "metadata": {
                        "needs_background": "light"
                    }
                }
            ],
            "metadata": {}
        },
        {
            "cell_type": "code",
            "execution_count": 44,
            "source": [
                "#giving the prediction values\n",
                "y_pred = model.predict(X_val)"
            ],
            "outputs": [
                {
                    "output_type": "execute_result",
                    "data": {
                        "text/plain": [
                            "array([0., 1., 0., ..., 1., 0., 0.])"
                        ]
                    },
                    "metadata": {},
                    "execution_count": 44
                }
            ],
            "metadata": {}
        },
        {
            "cell_type": "code",
            "execution_count": null,
            "source": [
                "#confusion matrix results for model1\n",
                "#In confusion matrix\n",
                "#actual 0s : 39947; 0s: 8494; total = 48441\n",
                "#actual 1s ：15418; 0s 11314; total = 26732\n",
                "\n",
                "def matrix(y_true, y_pred):\n",
                "    data = confusion_matrix(y_true, y_pred)\n",
                "    index = ['Actual 0', 'Actual 1']\n",
                "    columns = ['Predicted 0', 'Predicted 1']\n",
                "    return pd.DataFrame(data, index, columns)\n",
                "                        \n",
                "matrix(y_val, y_pred)"
            ],
            "outputs": [
                {
                    "output_type": "execute_result",
                    "data": {
                        "text/plain": [
                            "          Predicted 0  Predicted 1\n",
                            "Actual 0        40768         6227\n",
                            "Actual 1         9481         8688"
                        ],
                        "text/html": [
                            "<div>\n",
                            "<style scoped>\n",
                            "    .dataframe tbody tr th:only-of-type {\n",
                            "        vertical-align: middle;\n",
                            "    }\n",
                            "\n",
                            "    .dataframe tbody tr th {\n",
                            "        vertical-align: top;\n",
                            "    }\n",
                            "\n",
                            "    .dataframe thead th {\n",
                            "        text-align: right;\n",
                            "    }\n",
                            "</style>\n",
                            "<table border=\"1\" class=\"dataframe\">\n",
                            "  <thead>\n",
                            "    <tr style=\"text-align: right;\">\n",
                            "      <th></th>\n",
                            "      <th>Predicted 0</th>\n",
                            "      <th>Predicted 1</th>\n",
                            "    </tr>\n",
                            "  </thead>\n",
                            "  <tbody>\n",
                            "    <tr>\n",
                            "      <th>Actual 0</th>\n",
                            "      <td>40768</td>\n",
                            "      <td>6227</td>\n",
                            "    </tr>\n",
                            "    <tr>\n",
                            "      <th>Actual 1</th>\n",
                            "      <td>9481</td>\n",
                            "      <td>8688</td>\n",
                            "    </tr>\n",
                            "  </tbody>\n",
                            "</table>\n",
                            "</div>"
                        ]
                    },
                    "metadata": {},
                    "execution_count": 114
                }
            ],
            "metadata": {}
        },
        {
            "cell_type": "code",
            "execution_count": 48,
            "source": [
                "model_drop_features = ['goal', 'month', 'year']\n",
                "\n",
                "model_drop = XGBClassifier(label_encoder = False, random_state=42, n_estimators=50, n_jobs=-1, max_depth=15)\n",
                "model_drop.fit(X_train[model_drop_features], y_train)\n",
                "\n"
            ],
            "outputs": [
                {
                    "output_type": "stream",
                    "name": "stderr",
                    "text": [
                        "/Library/Frameworks/Python.framework/Versions/3.9/lib/python3.9/site-packages/xgboost/sklearn.py:1204: UserWarning: The use of label encoder in XGBClassifier is deprecated and will be removed in a future release. To remove this warning, do the following: 1) Pass option use_label_encoder=False when constructing XGBClassifier object; and 2) Encode your labels (y) as integers starting with 0, i.e. 0, 1, 2, ..., [num_class - 1].\n",
                        "  warnings.warn(label_encoder_deprecation_msg, UserWarning)\n"
                    ]
                },
                {
                    "output_type": "stream",
                    "name": "stdout",
                    "text": [
                        "[09:54:58] WARNING: /Users/ad/xgboost/python-package/build/temp.macosx-10.9-x86_64-3.9/xgboost/src/learner.cc:576: \n",
                        "Parameters: { \"label_encoder\" } might not be used.\n",
                        "\n",
                        "  This may not be accurate due to some parameters are only used in language bindings but\n",
                        "  passed down to XGBoost core.  Or some parameters are not used but slip through this\n",
                        "  verification. Please open an issue if you find above cases.\n",
                        "\n",
                        "\n",
                        "[09:54:58] WARNING: /Users/ad/xgboost/python-package/build/temp.macosx-10.9-x86_64-3.9/xgboost/src/learner.cc:1115: Starting in XGBoost 1.3.0, the default evaluation metric used with the objective 'binary:logistic' was changed from 'error' to 'logloss'. Explicitly set eval_metric if you'd like to restore the old behavior.\n"
                    ]
                },
                {
                    "output_type": "execute_result",
                    "data": {
                        "text/plain": [
                            "XGBClassifier(base_score=0.5, booster='gbtree', colsample_bylevel=1,\n",
                            "              colsample_bynode=1, colsample_bytree=1, enable_categorical=False,\n",
                            "              gamma=0, gpu_id=-1, importance_type=None,\n",
                            "              interaction_constraints='', label_encoder=False,\n",
                            "              learning_rate=0.300000012, max_delta_step=0, max_depth=15,\n",
                            "              min_child_weight=1, missing=nan, monotone_constraints='()',\n",
                            "              n_estimators=50, n_jobs=-1, num_parallel_tree=1, predictor='auto',\n",
                            "              random_state=42, reg_alpha=0, reg_lambda=1, scale_pos_weight=1,\n",
                            "              subsample=1, tree_method='exact', validate_parameters=1,\n",
                            "              verbosity=None)"
                        ]
                    },
                    "metadata": {},
                    "execution_count": 48
                }
            ],
            "metadata": {}
        },
        {
            "cell_type": "code",
            "execution_count": 49,
            "source": [
                "training_accuracy_drop = model_drop.score(X_train[model_drop_features], y_train)\n",
                "val_accuracy_drop = model_drop.score(X_val[model_drop_features], y_val)\n",
                "print(training_accuracy_drop, val_accuracy_drop)"
            ],
            "outputs": [
                {
                    "output_type": "stream",
                    "name": "stdout",
                    "text": [
                        "0.7648347432429841 0.7396108280645756\n"
                    ]
                }
            ],
            "metadata": {}
        },
        {
            "cell_type": "code",
            "execution_count": null,
            "source": [
                "#creating and fitting model2 = LogisticRegression\n",
                "\n",
                "model2 = LogisticRegression(random_state=42, solver='newton-cg')\n",
                "model2.fit(X_train, y_train)"
            ],
            "outputs": [
                {
                    "output_type": "stream",
                    "name": "stderr",
                    "text": [
                        "/Library/Frameworks/Python.framework/Versions/3.9/lib/python3.9/site-packages/scipy/optimize/linesearch.py:478: LineSearchWarning: The line search algorithm did not converge\n",
                        "  warn('The line search algorithm did not converge', LineSearchWarning)\n",
                        "/Library/Frameworks/Python.framework/Versions/3.9/lib/python3.9/site-packages/scipy/optimize/linesearch.py:327: LineSearchWarning: The line search algorithm did not converge\n",
                        "  warn('The line search algorithm did not converge', LineSearchWarning)\n",
                        "/Library/Frameworks/Python.framework/Versions/3.9/lib/python3.9/site-packages/sklearn/utils/optimize.py:202: ConvergenceWarning: newton-cg failed to converge. Increase the number of iterations.\n",
                        "  warnings.warn(\"newton-cg failed to converge. Increase the \"\n"
                    ]
                },
                {
                    "output_type": "execute_result",
                    "data": {
                        "text/plain": [
                            "LogisticRegression(random_state=42, solver='newton-cg')"
                        ]
                    },
                    "metadata": {},
                    "execution_count": 134
                }
            ],
            "metadata": {}
        },
        {
            "cell_type": "code",
            "execution_count": null,
            "source": [
                "training_accuracy2 = model2.score(X_train, y_train)\n",
                "val_accuracy2 = model2.score(X_val, y_val)\n",
                "print(training_accuracy2, val_accuracy2)"
            ],
            "outputs": [
                {
                    "output_type": "stream",
                    "name": "stdout",
                    "text": [
                        "0.7345763557192457 0.7363728439015407\n"
                    ]
                }
            ],
            "metadata": {}
        },
        {
            "cell_type": "code",
            "execution_count": null,
            "source": [
                "#creating and fitting model3 = DecisionTree\n",
                "\n",
                "model3 = tree.DecisionTreeClassifier(random_state=42)\n",
                "model3.fit(X_train, y_train)"
            ],
            "outputs": [
                {
                    "output_type": "execute_result",
                    "data": {
                        "text/plain": [
                            "DecisionTreeClassifier(random_state=42)"
                        ]
                    },
                    "metadata": {},
                    "execution_count": 117
                }
            ],
            "metadata": {}
        },
        {
            "cell_type": "code",
            "execution_count": null,
            "source": [
                "training_accuracy3 = model3.score(X_train, y_train)\n",
                "val_accuracy3 = model3.score(X_val, y_val)\n",
                "print(training_accuracy3, val_accuracy3)"
            ],
            "outputs": [
                {
                    "output_type": "stream",
                    "name": "stdout",
                    "text": [
                        "1.0 0.7045301086489473\n"
                    ]
                }
            ],
            "metadata": {}
        },
        {
            "cell_type": "code",
            "execution_count": null,
            "source": [
                "#creating and fitting model4 = RandomForestClassifer\n",
                "\n",
                "model4 = RandomForestClassifier(random_state=42, n_estimators=50, n_jobs=-1)\n",
                "model4.fit(X_train, y_train);"
            ],
            "outputs": [],
            "metadata": {}
        },
        {
            "cell_type": "code",
            "execution_count": null,
            "source": [
                "training_accuracy4 = model4.score(X_train, y_train)\n",
                "val_accuracy4 = model4.score(X_val, y_val)\n",
                "print(training_accuracy4, val_accuracy4)"
            ],
            "outputs": [
                {
                    "output_type": "stream",
                    "name": "stdout",
                    "text": [
                        "0.9997889931135026 0.7573660303234915\n"
                    ]
                }
            ],
            "metadata": {}
        },
        {
            "cell_type": "code",
            "execution_count": 122,
            "source": [
                "#creating and fitting model5 = GradientBoostingClassifer\n",
                "model5 = GradientBoostingClassifier(random_state=42)\n",
                "model5.fit(X_train, y_train);"
            ],
            "outputs": [],
            "metadata": {}
        },
        {
            "cell_type": "code",
            "execution_count": 123,
            "source": [
                "training_accuracy5 = model5.score(X_train, y_train)\n",
                "val_accuracy5 = model5.score(X_val, y_val)\n",
                "print(training_accuracy5, val_accuracy5)"
            ],
            "outputs": [
                {
                    "output_type": "stream",
                    "name": "stdout",
                    "text": [
                        "0.7665266348238092 0.7684457676017433\n"
                    ]
                }
            ],
            "metadata": {}
        },
        {
            "cell_type": "code",
            "execution_count": null,
            "source": [
                "#perm_imp is set to be permutation importance of boosting model on X_val and y_val\n",
                "perm_imp = permutation_importance(model5, X_val, y_val, random_state=42)\n",
                "#setting data as dict of the permutation importances mean and std.\n",
                "data = {'imp_mean':perm_imp['importances_mean'],\n",
                "        'imp_std':perm_imp['importances_std']}\n",
                "#setting permutation_importances to be data frame with columns in X val to be index and 'data' to be the other columns. Sorting by the mean importance from data.\n",
                "permutation_importances5 = pd.DataFrame(data,index=X_val.columns).sort_values(by='imp_mean')\n",
                "\n",
                "permutation_importances5"
            ],
            "outputs": [
                {
                    "output_type": "execute_result",
                    "data": {
                        "text/plain": [
                            "                         imp_mean   imp_std\n",
                            "launch_season           -0.000147  0.000089\n",
                            "day                      0.000230  0.000098\n",
                            "hour                     0.000393  0.000451\n",
                            "month                    0.000761  0.000273\n",
                            "time_since_last_project  0.000884  0.000144\n",
                            "duration_days            0.014591  0.000647\n",
                            "main_category            0.019855  0.000567\n",
                            "year                     0.020505  0.000908\n",
                            "goal                     0.056240  0.000737"
                        ],
                        "text/html": [
                            "<div>\n",
                            "<style scoped>\n",
                            "    .dataframe tbody tr th:only-of-type {\n",
                            "        vertical-align: middle;\n",
                            "    }\n",
                            "\n",
                            "    .dataframe tbody tr th {\n",
                            "        vertical-align: top;\n",
                            "    }\n",
                            "\n",
                            "    .dataframe thead th {\n",
                            "        text-align: right;\n",
                            "    }\n",
                            "</style>\n",
                            "<table border=\"1\" class=\"dataframe\">\n",
                            "  <thead>\n",
                            "    <tr style=\"text-align: right;\">\n",
                            "      <th></th>\n",
                            "      <th>imp_mean</th>\n",
                            "      <th>imp_std</th>\n",
                            "    </tr>\n",
                            "  </thead>\n",
                            "  <tbody>\n",
                            "    <tr>\n",
                            "      <th>launch_season</th>\n",
                            "      <td>-0.000147</td>\n",
                            "      <td>0.000089</td>\n",
                            "    </tr>\n",
                            "    <tr>\n",
                            "      <th>day</th>\n",
                            "      <td>0.000230</td>\n",
                            "      <td>0.000098</td>\n",
                            "    </tr>\n",
                            "    <tr>\n",
                            "      <th>hour</th>\n",
                            "      <td>0.000393</td>\n",
                            "      <td>0.000451</td>\n",
                            "    </tr>\n",
                            "    <tr>\n",
                            "      <th>month</th>\n",
                            "      <td>0.000761</td>\n",
                            "      <td>0.000273</td>\n",
                            "    </tr>\n",
                            "    <tr>\n",
                            "      <th>time_since_last_project</th>\n",
                            "      <td>0.000884</td>\n",
                            "      <td>0.000144</td>\n",
                            "    </tr>\n",
                            "    <tr>\n",
                            "      <th>duration_days</th>\n",
                            "      <td>0.014591</td>\n",
                            "      <td>0.000647</td>\n",
                            "    </tr>\n",
                            "    <tr>\n",
                            "      <th>main_category</th>\n",
                            "      <td>0.019855</td>\n",
                            "      <td>0.000567</td>\n",
                            "    </tr>\n",
                            "    <tr>\n",
                            "      <th>year</th>\n",
                            "      <td>0.020505</td>\n",
                            "      <td>0.000908</td>\n",
                            "    </tr>\n",
                            "    <tr>\n",
                            "      <th>goal</th>\n",
                            "      <td>0.056240</td>\n",
                            "      <td>0.000737</td>\n",
                            "    </tr>\n",
                            "  </tbody>\n",
                            "</table>\n",
                            "</div>"
                        ]
                    },
                    "metadata": {},
                    "execution_count": 125
                }
            ],
            "metadata": {}
        },
        {
            "cell_type": "code",
            "execution_count": 53,
            "source": [
                "# Get feature importances\n",
                "importances5 = pd.Series(model5.feature_importances_, X_train.columns)\n",
                "\n",
                "# Plot feature importances\n",
                "%matplotlib inline\n",
                "import matplotlib.pyplot as plt\n",
                "\n",
                "n = 20\n",
                "plt.figure(figsize=(10,n/2))\n",
                "plt.title(f'Top {n} features')\n",
                "importances5.sort_values()[-n:].plot.barh(color='grey');"
            ],
            "outputs": [
                {
                    "output_type": "display_data",
                    "data": {
                        "text/plain": [
                            "<Figure size 720x720 with 1 Axes>"
                        ],
                        "image/png": "[encoded data removed]"
                    },
                    "metadata": {
                        "needs_background": "light"
                    }
                }
            ],
            "metadata": {}
        },
        {
            "cell_type": "code",
            "execution_count": 68,
            "source": [
                "#data_features = ['launch_season', 'duration_days', 'main_category', 'goal', 'hour', 'day', 'month', 'year','time_since_last_project']\n",
                "\n",
                "#testing out the model \n",
                "model_drop_features = ['launch_season', 'duration_days', 'main_category', 'goal', 'hour', 'day', 'month', 'year','time_since_last_project']\n",
                "model_drop = GradientBoostingClassifier(random_state=42, n_estimators=50, max_depth=15)\n",
                "model_drop.fit(X_train[model_drop_features], y_train)\n",
                "\n",
                "training_accuracy_drop = model_drop.score(X_train[model_drop_features], y_train)\n",
                "val_accuracy_drop = model_drop.score(X_val[model_drop_features], y_val)\n",
                "print(training_accuracy_drop, val_accuracy_drop)"
            ],
            "outputs": [
                {
                    "output_type": "stream",
                    "name": "stdout",
                    "text": [
                        "0.9342157257677773 0.7612331962433245\n"
                    ]
                }
            ],
            "metadata": {}
        },
        {
            "cell_type": "code",
            "execution_count": 69,
            "source": [
                "#data_features = ['launch_season', 'duration_days', 'main_category', 'goal', 'hour', 'day', 'month', 'year','time_since_last_project']\n",
                "\n",
                "#testing out the model if droppped a few columns\n",
                "model_drop_features = ['duration_days', 'main_category', 'goal', 'hour', 'month', 'year','time_since_last_project']\n",
                "model_drop = GradientBoostingClassifier(random_state=42, n_estimators=50, max_depth=15)\n",
                "model_drop.fit(X_train[model_drop_features], y_train)\n",
                "\n",
                "training_accuracy_drop = model_drop.score(X_train[model_drop_features], y_train)\n",
                "val_accuracy_drop = model_drop.score(X_val[model_drop_features], y_val)\n",
                "print(training_accuracy_drop, val_accuracy_drop)"
            ],
            "outputs": [
                {
                    "output_type": "stream",
                    "name": "stdout",
                    "text": [
                        "0.9201281387274366 0.7616321895525137\n"
                    ]
                }
            ],
            "metadata": {}
        },
        {
            "cell_type": "code",
            "execution_count": 71,
            "source": [
                "#data_features = ['launch_season', 'duration_days', 'main_category', 'goal', 'hour', 'day', 'month', 'year','time_since_last_project']\n",
                "\n",
                "#testing out the model if droppped a few columns\n",
                "model_drop_features = ['duration_days', 'main_category', 'goal', 'year','time_since_last_project']\n",
                "model_drop = GradientBoostingClassifier(random_state=42, n_estimators=50, max_depth=15)\n",
                "model_drop.fit(X_train[model_drop_features], y_train)\n",
                "\n",
                "training_accuracy_drop = model_drop.score(X_train[model_drop_features], y_train)\n",
                "val_accuracy_drop = model_drop.score(X_val[model_drop_features], y_val)\n",
                "print(training_accuracy_drop, val_accuracy_drop)"
            ],
            "outputs": [
                {
                    "output_type": "stream",
                    "name": "stdout",
                    "text": [
                        "0.8822197924459535 0.7591768461113498\n"
                    ]
                }
            ],
            "metadata": {}
        },
        {
            "cell_type": "code",
            "execution_count": 73,
            "source": [
                "#data_features = ['launch_season', 'duration_days', 'main_category', 'goal', 'hour', 'day', 'month', 'year','time_since_last_project']\n",
                "\n",
                "#testing out the model if droppped a few columns\n",
                "model_drop_features = ['duration_days', 'main_category', 'goal', 'year', 'month']\n",
                "model_drop = GradientBoostingClassifier(random_state=42, n_estimators=50, max_depth=15)\n",
                "model_drop.fit(X_train[model_drop_features], y_train)\n",
                "\n",
                "training_accuracy_drop = model_drop.score(X_train[model_drop_features], y_train)\n",
                "val_accuracy_drop = model_drop.score(X_val[model_drop_features], y_val)\n",
                "print(training_accuracy_drop, val_accuracy_drop)"
            ],
            "outputs": [
                {
                    "output_type": "stream",
                    "name": "stdout",
                    "text": [
                        "0.8683355393144194 0.7577803695291879\n"
                    ]
                }
            ],
            "metadata": {}
        },
        {
            "cell_type": "code",
            "execution_count": 109,
            "source": [
                "######FINAL MODEL\n",
                "\n",
                "#data_features = ['launch_season', 'duration_days', 'main_category', 'goal', 'hour', 'day', 'month', 'year','time_since_last_project']\n",
                "\n",
                "#testing out the model if droppped a few columns\n",
                "#model_drop_features = ['duration', 'main_category', 'goal', 'month', 'year','time_since_last_project', 'country', 'currency']\n",
                "model_drop = GradientBoostingClassifier(random_state=42, n_estimators=50, max_depth=15)\n",
                "model_drop.fit(X_train, y_train)\n",
                "\n",
                "training_accuracy_drop = model_drop.score(X_train, y_train)\n",
                "val_accuracy_drop = model_drop.score(X_val, y_val)\n",
                "print(training_accuracy_drop, val_accuracy_drop)"
            ],
            "outputs": [
                {
                    "output_type": "error",
                    "ename": "ValueError",
                    "evalue": "Input contains NaN, infinity or a value too large for dtype('float32').",
                    "traceback": [
                        "\u001b[0;31m---------------------------------------------------------------------------\u001b[0m",
                        "\u001b[0;31mValueError\u001b[0m                                Traceback (most recent call last)",
                        "\u001b[0;32m/var/folders/__/zlj60b4x2dndz0rl_7m8sl1c0000gp/T/ipykernel_23719/359789276.py\u001b[0m in \u001b[0;36m<module>\u001b[0;34m\u001b[0m\n\u001b[1;32m      6\u001b[0m \u001b[0;31m#model_drop_features = ['duration', 'main_category', 'goal', 'month', 'year','time_since_last_project', 'country', 'currency']\u001b[0m\u001b[0;34m\u001b[0m\u001b[0;34m\u001b[0m\u001b[0;34m\u001b[0m\u001b[0m\n\u001b[1;32m      7\u001b[0m \u001b[0mmodel_drop\u001b[0m \u001b[0;34m=\u001b[0m \u001b[0mGradientBoostingClassifier\u001b[0m\u001b[0;34m(\u001b[0m\u001b[0mrandom_state\u001b[0m\u001b[0;34m=\u001b[0m\u001b[0;36m42\u001b[0m\u001b[0;34m,\u001b[0m \u001b[0mn_estimators\u001b[0m\u001b[0;34m=\u001b[0m\u001b[0;36m50\u001b[0m\u001b[0;34m,\u001b[0m \u001b[0mmax_depth\u001b[0m\u001b[0;34m=\u001b[0m\u001b[0;36m15\u001b[0m\u001b[0;34m)\u001b[0m\u001b[0;34m\u001b[0m\u001b[0;34m\u001b[0m\u001b[0m\n\u001b[0;32m----> 8\u001b[0;31m \u001b[0mmodel_drop\u001b[0m\u001b[0;34m.\u001b[0m\u001b[0mfit\u001b[0m\u001b[0;34m(\u001b[0m\u001b[0mX_train\u001b[0m\u001b[0;34m,\u001b[0m \u001b[0my_train\u001b[0m\u001b[0;34m)\u001b[0m\u001b[0;34m\u001b[0m\u001b[0;34m\u001b[0m\u001b[0m\n\u001b[0m\u001b[1;32m      9\u001b[0m \u001b[0;34m\u001b[0m\u001b[0m\n\u001b[1;32m     10\u001b[0m \u001b[0mtraining_accuracy_drop\u001b[0m \u001b[0;34m=\u001b[0m \u001b[0mmodel_drop\u001b[0m\u001b[0;34m.\u001b[0m\u001b[0mscore\u001b[0m\u001b[0;34m(\u001b[0m\u001b[0mX_train\u001b[0m\u001b[0;34m,\u001b[0m \u001b[0my_train\u001b[0m\u001b[0;34m)\u001b[0m\u001b[0;34m\u001b[0m\u001b[0;34m\u001b[0m\u001b[0m\n",
                        "\u001b[0;32m/Library/Frameworks/Python.framework/Versions/3.9/lib/python3.9/site-packages/sklearn/ensemble/_gb.py\u001b[0m in \u001b[0;36mfit\u001b[0;34m(self, X, y, sample_weight, monitor)\u001b[0m\n\u001b[1;32m    410\u001b[0m         \u001b[0;31m# trees use different types for X and y, checking them separately.\u001b[0m\u001b[0;34m\u001b[0m\u001b[0;34m\u001b[0m\u001b[0;34m\u001b[0m\u001b[0m\n\u001b[1;32m    411\u001b[0m \u001b[0;34m\u001b[0m\u001b[0m\n\u001b[0;32m--> 412\u001b[0;31m         X, y = self._validate_data(X, y, accept_sparse=['csr', 'csc', 'coo'],\n\u001b[0m\u001b[1;32m    413\u001b[0m                                    dtype=DTYPE, multi_output=True)\n\u001b[1;32m    414\u001b[0m         \u001b[0mn_samples\u001b[0m\u001b[0;34m,\u001b[0m \u001b[0mself\u001b[0m\u001b[0;34m.\u001b[0m\u001b[0mn_features_\u001b[0m \u001b[0;34m=\u001b[0m \u001b[0mX\u001b[0m\u001b[0;34m.\u001b[0m\u001b[0mshape\u001b[0m\u001b[0;34m\u001b[0m\u001b[0;34m\u001b[0m\u001b[0m\n",
                        "\u001b[0;32m/Library/Frameworks/Python.framework/Versions/3.9/lib/python3.9/site-packages/sklearn/base.py\u001b[0m in \u001b[0;36m_validate_data\u001b[0;34m(self, X, y, reset, validate_separately, **check_params)\u001b[0m\n\u001b[1;32m    431\u001b[0m                 \u001b[0my\u001b[0m \u001b[0;34m=\u001b[0m \u001b[0mcheck_array\u001b[0m\u001b[0;34m(\u001b[0m\u001b[0my\u001b[0m\u001b[0;34m,\u001b[0m \u001b[0;34m**\u001b[0m\u001b[0mcheck_y_params\u001b[0m\u001b[0;34m)\u001b[0m\u001b[0;34m\u001b[0m\u001b[0;34m\u001b[0m\u001b[0m\n\u001b[1;32m    432\u001b[0m             \u001b[0;32melse\u001b[0m\u001b[0;34m:\u001b[0m\u001b[0;34m\u001b[0m\u001b[0;34m\u001b[0m\u001b[0m\n\u001b[0;32m--> 433\u001b[0;31m                 \u001b[0mX\u001b[0m\u001b[0;34m,\u001b[0m \u001b[0my\u001b[0m \u001b[0;34m=\u001b[0m \u001b[0mcheck_X_y\u001b[0m\u001b[0;34m(\u001b[0m\u001b[0mX\u001b[0m\u001b[0;34m,\u001b[0m \u001b[0my\u001b[0m\u001b[0;34m,\u001b[0m \u001b[0;34m**\u001b[0m\u001b[0mcheck_params\u001b[0m\u001b[0;34m)\u001b[0m\u001b[0;34m\u001b[0m\u001b[0;34m\u001b[0m\u001b[0m\n\u001b[0m\u001b[1;32m    434\u001b[0m             \u001b[0mout\u001b[0m \u001b[0;34m=\u001b[0m \u001b[0mX\u001b[0m\u001b[0;34m,\u001b[0m \u001b[0my\u001b[0m\u001b[0;34m\u001b[0m\u001b[0;34m\u001b[0m\u001b[0m\n\u001b[1;32m    435\u001b[0m \u001b[0;34m\u001b[0m\u001b[0m\n",
                        "\u001b[0;32m/Library/Frameworks/Python.framework/Versions/3.9/lib/python3.9/site-packages/sklearn/utils/validation.py\u001b[0m in \u001b[0;36minner_f\u001b[0;34m(*args, **kwargs)\u001b[0m\n\u001b[1;32m     61\u001b[0m             \u001b[0mextra_args\u001b[0m \u001b[0;34m=\u001b[0m \u001b[0mlen\u001b[0m\u001b[0;34m(\u001b[0m\u001b[0margs\u001b[0m\u001b[0;34m)\u001b[0m \u001b[0;34m-\u001b[0m \u001b[0mlen\u001b[0m\u001b[0;34m(\u001b[0m\u001b[0mall_args\u001b[0m\u001b[0;34m)\u001b[0m\u001b[0;34m\u001b[0m\u001b[0;34m\u001b[0m\u001b[0m\n\u001b[1;32m     62\u001b[0m             \u001b[0;32mif\u001b[0m \u001b[0mextra_args\u001b[0m \u001b[0;34m<=\u001b[0m \u001b[0;36m0\u001b[0m\u001b[0;34m:\u001b[0m\u001b[0;34m\u001b[0m\u001b[0;34m\u001b[0m\u001b[0m\n\u001b[0;32m---> 63\u001b[0;31m                 \u001b[0;32mreturn\u001b[0m \u001b[0mf\u001b[0m\u001b[0;34m(\u001b[0m\u001b[0;34m*\u001b[0m\u001b[0margs\u001b[0m\u001b[0;34m,\u001b[0m \u001b[0;34m**\u001b[0m\u001b[0mkwargs\u001b[0m\u001b[0;34m)\u001b[0m\u001b[0;34m\u001b[0m\u001b[0;34m\u001b[0m\u001b[0m\n\u001b[0m\u001b[1;32m     64\u001b[0m \u001b[0;34m\u001b[0m\u001b[0m\n\u001b[1;32m     65\u001b[0m             \u001b[0;31m# extra_args > 0\u001b[0m\u001b[0;34m\u001b[0m\u001b[0;34m\u001b[0m\u001b[0;34m\u001b[0m\u001b[0m\n",
                        "\u001b[0;32m/Library/Frameworks/Python.framework/Versions/3.9/lib/python3.9/site-packages/sklearn/utils/validation.py\u001b[0m in \u001b[0;36mcheck_X_y\u001b[0;34m(X, y, accept_sparse, accept_large_sparse, dtype, order, copy, force_all_finite, ensure_2d, allow_nd, multi_output, ensure_min_samples, ensure_min_features, y_numeric, estimator)\u001b[0m\n\u001b[1;32m    869\u001b[0m         \u001b[0;32mraise\u001b[0m \u001b[0mValueError\u001b[0m\u001b[0;34m(\u001b[0m\u001b[0;34m\"y cannot be None\"\u001b[0m\u001b[0;34m)\u001b[0m\u001b[0;34m\u001b[0m\u001b[0;34m\u001b[0m\u001b[0m\n\u001b[1;32m    870\u001b[0m \u001b[0;34m\u001b[0m\u001b[0m\n\u001b[0;32m--> 871\u001b[0;31m     X = check_array(X, accept_sparse=accept_sparse,\n\u001b[0m\u001b[1;32m    872\u001b[0m                     \u001b[0maccept_large_sparse\u001b[0m\u001b[0;34m=\u001b[0m\u001b[0maccept_large_sparse\u001b[0m\u001b[0;34m,\u001b[0m\u001b[0;34m\u001b[0m\u001b[0;34m\u001b[0m\u001b[0m\n\u001b[1;32m    873\u001b[0m                     \u001b[0mdtype\u001b[0m\u001b[0;34m=\u001b[0m\u001b[0mdtype\u001b[0m\u001b[0;34m,\u001b[0m \u001b[0morder\u001b[0m\u001b[0;34m=\u001b[0m\u001b[0morder\u001b[0m\u001b[0;34m,\u001b[0m \u001b[0mcopy\u001b[0m\u001b[0;34m=\u001b[0m\u001b[0mcopy\u001b[0m\u001b[0;34m,\u001b[0m\u001b[0;34m\u001b[0m\u001b[0;34m\u001b[0m\u001b[0m\n",
                        "\u001b[0;32m/Library/Frameworks/Python.framework/Versions/3.9/lib/python3.9/site-packages/sklearn/utils/validation.py\u001b[0m in \u001b[0;36minner_f\u001b[0;34m(*args, **kwargs)\u001b[0m\n\u001b[1;32m     61\u001b[0m             \u001b[0mextra_args\u001b[0m \u001b[0;34m=\u001b[0m \u001b[0mlen\u001b[0m\u001b[0;34m(\u001b[0m\u001b[0margs\u001b[0m\u001b[0;34m)\u001b[0m \u001b[0;34m-\u001b[0m \u001b[0mlen\u001b[0m\u001b[0;34m(\u001b[0m\u001b[0mall_args\u001b[0m\u001b[0;34m)\u001b[0m\u001b[0;34m\u001b[0m\u001b[0;34m\u001b[0m\u001b[0m\n\u001b[1;32m     62\u001b[0m             \u001b[0;32mif\u001b[0m \u001b[0mextra_args\u001b[0m \u001b[0;34m<=\u001b[0m \u001b[0;36m0\u001b[0m\u001b[0;34m:\u001b[0m\u001b[0;34m\u001b[0m\u001b[0;34m\u001b[0m\u001b[0m\n\u001b[0;32m---> 63\u001b[0;31m                 \u001b[0;32mreturn\u001b[0m \u001b[0mf\u001b[0m\u001b[0;34m(\u001b[0m\u001b[0;34m*\u001b[0m\u001b[0margs\u001b[0m\u001b[0;34m,\u001b[0m \u001b[0;34m**\u001b[0m\u001b[0mkwargs\u001b[0m\u001b[0;34m)\u001b[0m\u001b[0;34m\u001b[0m\u001b[0;34m\u001b[0m\u001b[0m\n\u001b[0m\u001b[1;32m     64\u001b[0m \u001b[0;34m\u001b[0m\u001b[0m\n\u001b[1;32m     65\u001b[0m             \u001b[0;31m# extra_args > 0\u001b[0m\u001b[0;34m\u001b[0m\u001b[0;34m\u001b[0m\u001b[0;34m\u001b[0m\u001b[0m\n",
                        "\u001b[0;32m/Library/Frameworks/Python.framework/Versions/3.9/lib/python3.9/site-packages/sklearn/utils/validation.py\u001b[0m in \u001b[0;36mcheck_array\u001b[0;34m(array, accept_sparse, accept_large_sparse, dtype, order, copy, force_all_finite, ensure_2d, allow_nd, ensure_min_samples, ensure_min_features, estimator)\u001b[0m\n\u001b[1;32m    718\u001b[0m \u001b[0;34m\u001b[0m\u001b[0m\n\u001b[1;32m    719\u001b[0m         \u001b[0;32mif\u001b[0m \u001b[0mforce_all_finite\u001b[0m\u001b[0;34m:\u001b[0m\u001b[0;34m\u001b[0m\u001b[0;34m\u001b[0m\u001b[0m\n\u001b[0;32m--> 720\u001b[0;31m             _assert_all_finite(array,\n\u001b[0m\u001b[1;32m    721\u001b[0m                                allow_nan=force_all_finite == 'allow-nan')\n\u001b[1;32m    722\u001b[0m \u001b[0;34m\u001b[0m\u001b[0m\n",
                        "\u001b[0;32m/Library/Frameworks/Python.framework/Versions/3.9/lib/python3.9/site-packages/sklearn/utils/validation.py\u001b[0m in \u001b[0;36m_assert_all_finite\u001b[0;34m(X, allow_nan, msg_dtype)\u001b[0m\n\u001b[1;32m    101\u001b[0m                 not allow_nan and not np.isfinite(X).all()):\n\u001b[1;32m    102\u001b[0m             \u001b[0mtype_err\u001b[0m \u001b[0;34m=\u001b[0m \u001b[0;34m'infinity'\u001b[0m \u001b[0;32mif\u001b[0m \u001b[0mallow_nan\u001b[0m \u001b[0;32melse\u001b[0m \u001b[0;34m'NaN, infinity'\u001b[0m\u001b[0;34m\u001b[0m\u001b[0;34m\u001b[0m\u001b[0m\n\u001b[0;32m--> 103\u001b[0;31m             raise ValueError(\n\u001b[0m\u001b[1;32m    104\u001b[0m                     \u001b[0mmsg_err\u001b[0m\u001b[0;34m.\u001b[0m\u001b[0mformat\u001b[0m\u001b[0;34m\u001b[0m\u001b[0;34m\u001b[0m\u001b[0m\n\u001b[1;32m    105\u001b[0m                     (type_err,\n",
                        "\u001b[0;31mValueError\u001b[0m: Input contains NaN, infinity or a value too large for dtype('float32')."
                    ]
                }
            ],
            "metadata": {}
        },
        {
            "cell_type": "code",
            "execution_count": 129,
            "source": [
                "import pickle\n",
                "with open('model.pkl', 'wb') as f:\n",
                "    pickle.dump(model5, f)"
            ],
            "outputs": [],
            "metadata": {}
        },
        {
            "cell_type": "code",
            "execution_count": 125,
            "source": [
                "model5.predict(X_val)"
            ],
            "outputs": [
                {
                    "output_type": "execute_result",
                    "data": {
                        "text/plain": [
                            "array([0., 1., 0., ..., 1., 0., 0.])"
                        ]
                    },
                    "metadata": {},
                    "execution_count": 125
                }
            ],
            "metadata": {}
        },
        {
            "cell_type": "code",
            "execution_count": 127,
            "source": [
                "X_val.shape"
            ],
            "outputs": [
                {
                    "output_type": "execute_result",
                    "data": {
                        "text/plain": [
                            "(65164, 9)"
                        ]
                    },
                    "metadata": {},
                    "execution_count": 127
                }
            ],
            "metadata": {}
        },
        {
            "cell_type": "code",
            "execution_count": 128,
            "source": [
                "X_val.head()"
            ],
            "outputs": [
                {
                    "output_type": "execute_result",
                    "data": {
                        "text/plain": [
                            "                                                       goal  hour  month  \\\n",
                            "name                                                                       \n",
                            "Starting from scratch                                9000.0    18      2   \n",
                            "Dreams of Elysium                                    2000.0     1      8   \n",
                            "The Legends of Christopher Drake: In the Beginning    600.0    21      8   \n",
                            "World's Best Doctor Who Inspired TARDIS              1000.0    23     10   \n",
                            "Turbo Pot-Cooking for a Sustainable Life Style      15000.0     1     12   \n",
                            "\n",
                            "                                                    year  duration  country  \\\n",
                            "name                                                                          \n",
                            "Starting from scratch                               2015        59       22   \n",
                            "Dreams of Elysium                                   2013        29       22   \n",
                            "The Legends of Christopher Drake: In the Beginning  2014         9       22   \n",
                            "World's Best Doctor Who Inspired TARDIS             2017        29       22   \n",
                            "Turbo Pot-Cooking for a Sustainable Life Style      2015        29       22   \n",
                            "\n",
                            "                                                    currency  main_category  \\\n",
                            "name                                                                          \n",
                            "Starting from scratch                                     13             10   \n",
                            "Dreams of Elysium                                         13             10   \n",
                            "The Legends of Christopher Drake: In the Beginning        13             12   \n",
                            "World's Best Doctor Who Inspired TARDIS                   13              5   \n",
                            "Turbo Pot-Cooking for a Sustainable Life Style            13              7   \n",
                            "\n",
                            "                                                    time_since_last_project  \n",
                            "name                                                                         \n",
                            "Starting from scratch                                              2.792500  \n",
                            "Dreams of Elysium                                                 76.190000  \n",
                            "The Legends of Christopher Drake: In the Beginning                 3.128611  \n",
                            "World's Best Doctor Who Inspired TARDIS                           29.357778  \n",
                            "Turbo Pot-Cooking for a Sustainable Life Style                     0.920000  "
                        ],
                        "text/html": [
                            "<div>\n",
                            "<style scoped>\n",
                            "    .dataframe tbody tr th:only-of-type {\n",
                            "        vertical-align: middle;\n",
                            "    }\n",
                            "\n",
                            "    .dataframe tbody tr th {\n",
                            "        vertical-align: top;\n",
                            "    }\n",
                            "\n",
                            "    .dataframe thead th {\n",
                            "        text-align: right;\n",
                            "    }\n",
                            "</style>\n",
                            "<table border=\"1\" class=\"dataframe\">\n",
                            "  <thead>\n",
                            "    <tr style=\"text-align: right;\">\n",
                            "      <th></th>\n",
                            "      <th>goal</th>\n",
                            "      <th>hour</th>\n",
                            "      <th>month</th>\n",
                            "      <th>year</th>\n",
                            "      <th>duration</th>\n",
                            "      <th>country</th>\n",
                            "      <th>currency</th>\n",
                            "      <th>main_category</th>\n",
                            "      <th>time_since_last_project</th>\n",
                            "    </tr>\n",
                            "    <tr>\n",
                            "      <th>name</th>\n",
                            "      <th></th>\n",
                            "      <th></th>\n",
                            "      <th></th>\n",
                            "      <th></th>\n",
                            "      <th></th>\n",
                            "      <th></th>\n",
                            "      <th></th>\n",
                            "      <th></th>\n",
                            "      <th></th>\n",
                            "    </tr>\n",
                            "  </thead>\n",
                            "  <tbody>\n",
                            "    <tr>\n",
                            "      <th>Starting from scratch</th>\n",
                            "      <td>9000.0</td>\n",
                            "      <td>18</td>\n",
                            "      <td>2</td>\n",
                            "      <td>2015</td>\n",
                            "      <td>59</td>\n",
                            "      <td>22</td>\n",
                            "      <td>13</td>\n",
                            "      <td>10</td>\n",
                            "      <td>2.792500</td>\n",
                            "    </tr>\n",
                            "    <tr>\n",
                            "      <th>Dreams of Elysium</th>\n",
                            "      <td>2000.0</td>\n",
                            "      <td>1</td>\n",
                            "      <td>8</td>\n",
                            "      <td>2013</td>\n",
                            "      <td>29</td>\n",
                            "      <td>22</td>\n",
                            "      <td>13</td>\n",
                            "      <td>10</td>\n",
                            "      <td>76.190000</td>\n",
                            "    </tr>\n",
                            "    <tr>\n",
                            "      <th>The Legends of Christopher Drake: In the Beginning</th>\n",
                            "      <td>600.0</td>\n",
                            "      <td>21</td>\n",
                            "      <td>8</td>\n",
                            "      <td>2014</td>\n",
                            "      <td>9</td>\n",
                            "      <td>22</td>\n",
                            "      <td>13</td>\n",
                            "      <td>12</td>\n",
                            "      <td>3.128611</td>\n",
                            "    </tr>\n",
                            "    <tr>\n",
                            "      <th>World's Best Doctor Who Inspired TARDIS</th>\n",
                            "      <td>1000.0</td>\n",
                            "      <td>23</td>\n",
                            "      <td>10</td>\n",
                            "      <td>2017</td>\n",
                            "      <td>29</td>\n",
                            "      <td>22</td>\n",
                            "      <td>13</td>\n",
                            "      <td>5</td>\n",
                            "      <td>29.357778</td>\n",
                            "    </tr>\n",
                            "    <tr>\n",
                            "      <th>Turbo Pot-Cooking for a Sustainable Life Style</th>\n",
                            "      <td>15000.0</td>\n",
                            "      <td>1</td>\n",
                            "      <td>12</td>\n",
                            "      <td>2015</td>\n",
                            "      <td>29</td>\n",
                            "      <td>22</td>\n",
                            "      <td>13</td>\n",
                            "      <td>7</td>\n",
                            "      <td>0.920000</td>\n",
                            "    </tr>\n",
                            "  </tbody>\n",
                            "</table>\n",
                            "</div>"
                        ]
                    },
                    "metadata": {},
                    "execution_count": 128
                }
            ],
            "metadata": {}
        }
    ],
    "metadata": {
        "orig_nbformat": 4,
        "language_info": {
            "name": "python",
            "version": "3.9.6",
            "mimetype": "text/x-python",
            "codemirror_mode": {
                "name": "ipython",
                "version": 3
            },
            "pygments_lexer": "ipython3",
            "nbconvert_exporter": "python",
            "file_extension": ".py"
        },
        "kernelspec": {
            "name": "python3",
            "display_name": "Python 3.9.6 64-bit"
        },
        "interpreter": {
            "hash": "aee8b7b246df8f9039afb4144a1f6fd8d2ca17a180786b69acc140d282b71a49"
        }
    },
    "nbformat": 4,
    "nbformat_minor": 2
}